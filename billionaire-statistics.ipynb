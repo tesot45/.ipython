{
 "cells": [
  {
   "cell_type": "code",
   "execution_count": 1,
   "id": "c09ea90f",
   "metadata": {
    "_cell_guid": "b1076dfc-b9ad-4769-8c92-a6c4dae69d19",
    "_uuid": "8f2839f25d086af736a60e9eeb907d3b93b6e0e5",
    "execution": {
     "iopub.execute_input": "2024-11-25T17:29:10.591206Z",
     "iopub.status.busy": "2024-11-25T17:29:10.590288Z",
     "iopub.status.idle": "2024-11-25T17:29:11.675230Z",
     "shell.execute_reply": "2024-11-25T17:29:11.674081Z"
    },
    "papermill": {
     "duration": 1.097673,
     "end_time": "2024-11-25T17:29:11.677948",
     "exception": false,
     "start_time": "2024-11-25T17:29:10.580275",
     "status": "completed"
    },
    "tags": []
   },
   "outputs": [],
   "source": [
    "import pandas as pd\n",
    "import numpy as np\n",
    "import matplotlib.pyplot as plt"
   ]
  },
  {
   "cell_type": "code",
   "execution_count": 2,
   "id": "faea09c0",
   "metadata": {
    "execution": {
     "iopub.execute_input": "2024-11-25T17:29:11.696045Z",
     "iopub.status.busy": "2024-11-25T17:29:11.695493Z",
     "iopub.status.idle": "2024-11-25T17:29:11.705868Z",
     "shell.execute_reply": "2024-11-25T17:29:11.704668Z"
    },
    "papermill": {
     "duration": 0.022733,
     "end_time": "2024-11-25T17:29:11.708649",
     "exception": false,
     "start_time": "2024-11-25T17:29:11.685916",
     "status": "completed"
    },
    "tags": []
   },
   "outputs": [
    {
     "name": "stdout",
     "output_type": "stream",
     "text": [
      "['Billionaires Statistics Dataset.csv']\n"
     ]
    }
   ],
   "source": [
    "import os\n",
    "\n",
    "# List the files in the input directory\n",
    "print(os.listdir('/kaggle/input/statistics-of-billionaires-in-2023'))"
   ]
  },
  {
   "cell_type": "code",
   "execution_count": 3,
   "id": "73f4ae0e",
   "metadata": {
    "execution": {
     "iopub.execute_input": "2024-11-25T17:29:11.739330Z",
     "iopub.status.busy": "2024-11-25T17:29:11.738407Z",
     "iopub.status.idle": "2024-11-25T17:29:11.799225Z",
     "shell.execute_reply": "2024-11-25T17:29:11.796940Z"
    },
    "papermill": {
     "duration": 0.079308,
     "end_time": "2024-11-25T17:29:11.802796",
     "exception": false,
     "start_time": "2024-11-25T17:29:11.723488",
     "status": "completed"
    },
    "tags": []
   },
   "outputs": [],
   "source": [
    "data = pd.read_csv('/kaggle/input/statistics-of-billionaires-in-2023/Billionaires Statistics Dataset.csv')"
   ]
  },
  {
   "cell_type": "markdown",
   "id": "59e17bfa",
   "metadata": {
    "execution": {
     "iopub.execute_input": "2024-11-22T07:54:00.244832Z",
     "iopub.status.busy": "2024-11-22T07:54:00.244348Z",
     "iopub.status.idle": "2024-11-22T07:54:00.251779Z",
     "shell.execute_reply": "2024-11-22T07:54:00.250436Z",
     "shell.execute_reply.started": "2024-11-22T07:54:00.244719Z"
    },
    "papermill": {
     "duration": 0.007877,
     "end_time": "2024-11-25T17:29:11.827095",
     "exception": false,
     "start_time": "2024-11-25T17:29:11.819218",
     "status": "completed"
    },
    "tags": []
   },
   "source": [
    "# Data Understanding"
   ]
  },
  {
   "cell_type": "code",
   "execution_count": 4,
   "id": "c97d29f9",
   "metadata": {
    "execution": {
     "iopub.execute_input": "2024-11-25T17:29:11.844795Z",
     "iopub.status.busy": "2024-11-25T17:29:11.844175Z",
     "iopub.status.idle": "2024-11-25T17:29:11.854699Z",
     "shell.execute_reply": "2024-11-25T17:29:11.853361Z"
    },
    "papermill": {
     "duration": 0.022903,
     "end_time": "2024-11-25T17:29:11.857500",
     "exception": false,
     "start_time": "2024-11-25T17:29:11.834597",
     "status": "completed"
    },
    "tags": []
   },
   "outputs": [
    {
     "data": {
      "text/plain": [
       "(2640, 35)"
      ]
     },
     "execution_count": 4,
     "metadata": {},
     "output_type": "execute_result"
    }
   ],
   "source": [
    "data.shape"
   ]
  },
  {
   "cell_type": "code",
   "execution_count": 5,
   "id": "6fb8e55b",
   "metadata": {
    "execution": {
     "iopub.execute_input": "2024-11-25T17:29:11.882638Z",
     "iopub.status.busy": "2024-11-25T17:29:11.882252Z",
     "iopub.status.idle": "2024-11-25T17:29:11.932255Z",
     "shell.execute_reply": "2024-11-25T17:29:11.930671Z"
    },
    "papermill": {
     "duration": 0.063376,
     "end_time": "2024-11-25T17:29:11.935160",
     "exception": false,
     "start_time": "2024-11-25T17:29:11.871784",
     "status": "completed"
    },
    "tags": []
   },
   "outputs": [
    {
     "data": {
      "text/html": [
       "<div>\n",
       "<style scoped>\n",
       "    .dataframe tbody tr th:only-of-type {\n",
       "        vertical-align: middle;\n",
       "    }\n",
       "\n",
       "    .dataframe tbody tr th {\n",
       "        vertical-align: top;\n",
       "    }\n",
       "\n",
       "    .dataframe thead th {\n",
       "        text-align: right;\n",
       "    }\n",
       "</style>\n",
       "<table border=\"1\" class=\"dataframe\">\n",
       "  <thead>\n",
       "    <tr style=\"text-align: right;\">\n",
       "      <th></th>\n",
       "      <th>rank</th>\n",
       "      <th>finalWorth</th>\n",
       "      <th>category</th>\n",
       "      <th>personName</th>\n",
       "      <th>age</th>\n",
       "      <th>country</th>\n",
       "      <th>city</th>\n",
       "      <th>source</th>\n",
       "      <th>industries</th>\n",
       "      <th>countryOfCitizenship</th>\n",
       "      <th>...</th>\n",
       "      <th>cpi_change_country</th>\n",
       "      <th>gdp_country</th>\n",
       "      <th>gross_tertiary_education_enrollment</th>\n",
       "      <th>gross_primary_education_enrollment_country</th>\n",
       "      <th>life_expectancy_country</th>\n",
       "      <th>tax_revenue_country_country</th>\n",
       "      <th>total_tax_rate_country</th>\n",
       "      <th>population_country</th>\n",
       "      <th>latitude_country</th>\n",
       "      <th>longitude_country</th>\n",
       "    </tr>\n",
       "  </thead>\n",
       "  <tbody>\n",
       "    <tr>\n",
       "      <th>0</th>\n",
       "      <td>1</td>\n",
       "      <td>211000</td>\n",
       "      <td>Fashion &amp; Retail</td>\n",
       "      <td>Bernard Arnault &amp; family</td>\n",
       "      <td>74.0</td>\n",
       "      <td>France</td>\n",
       "      <td>Paris</td>\n",
       "      <td>LVMH</td>\n",
       "      <td>Fashion &amp; Retail</td>\n",
       "      <td>France</td>\n",
       "      <td>...</td>\n",
       "      <td>1.1</td>\n",
       "      <td>$2,715,518,274,227</td>\n",
       "      <td>65.6</td>\n",
       "      <td>102.5</td>\n",
       "      <td>82.5</td>\n",
       "      <td>24.2</td>\n",
       "      <td>60.7</td>\n",
       "      <td>67059887.0</td>\n",
       "      <td>46.227638</td>\n",
       "      <td>2.213749</td>\n",
       "    </tr>\n",
       "    <tr>\n",
       "      <th>1</th>\n",
       "      <td>2</td>\n",
       "      <td>180000</td>\n",
       "      <td>Automotive</td>\n",
       "      <td>Elon Musk</td>\n",
       "      <td>51.0</td>\n",
       "      <td>United States</td>\n",
       "      <td>Austin</td>\n",
       "      <td>Tesla, SpaceX</td>\n",
       "      <td>Automotive</td>\n",
       "      <td>United States</td>\n",
       "      <td>...</td>\n",
       "      <td>7.5</td>\n",
       "      <td>$21,427,700,000,000</td>\n",
       "      <td>88.2</td>\n",
       "      <td>101.8</td>\n",
       "      <td>78.5</td>\n",
       "      <td>9.6</td>\n",
       "      <td>36.6</td>\n",
       "      <td>328239523.0</td>\n",
       "      <td>37.090240</td>\n",
       "      <td>-95.712891</td>\n",
       "    </tr>\n",
       "    <tr>\n",
       "      <th>2</th>\n",
       "      <td>3</td>\n",
       "      <td>114000</td>\n",
       "      <td>Technology</td>\n",
       "      <td>Jeff Bezos</td>\n",
       "      <td>59.0</td>\n",
       "      <td>United States</td>\n",
       "      <td>Medina</td>\n",
       "      <td>Amazon</td>\n",
       "      <td>Technology</td>\n",
       "      <td>United States</td>\n",
       "      <td>...</td>\n",
       "      <td>7.5</td>\n",
       "      <td>$21,427,700,000,000</td>\n",
       "      <td>88.2</td>\n",
       "      <td>101.8</td>\n",
       "      <td>78.5</td>\n",
       "      <td>9.6</td>\n",
       "      <td>36.6</td>\n",
       "      <td>328239523.0</td>\n",
       "      <td>37.090240</td>\n",
       "      <td>-95.712891</td>\n",
       "    </tr>\n",
       "    <tr>\n",
       "      <th>3</th>\n",
       "      <td>4</td>\n",
       "      <td>107000</td>\n",
       "      <td>Technology</td>\n",
       "      <td>Larry Ellison</td>\n",
       "      <td>78.0</td>\n",
       "      <td>United States</td>\n",
       "      <td>Lanai</td>\n",
       "      <td>Oracle</td>\n",
       "      <td>Technology</td>\n",
       "      <td>United States</td>\n",
       "      <td>...</td>\n",
       "      <td>7.5</td>\n",
       "      <td>$21,427,700,000,000</td>\n",
       "      <td>88.2</td>\n",
       "      <td>101.8</td>\n",
       "      <td>78.5</td>\n",
       "      <td>9.6</td>\n",
       "      <td>36.6</td>\n",
       "      <td>328239523.0</td>\n",
       "      <td>37.090240</td>\n",
       "      <td>-95.712891</td>\n",
       "    </tr>\n",
       "    <tr>\n",
       "      <th>4</th>\n",
       "      <td>5</td>\n",
       "      <td>106000</td>\n",
       "      <td>Finance &amp; Investments</td>\n",
       "      <td>Warren Buffett</td>\n",
       "      <td>92.0</td>\n",
       "      <td>United States</td>\n",
       "      <td>Omaha</td>\n",
       "      <td>Berkshire Hathaway</td>\n",
       "      <td>Finance &amp; Investments</td>\n",
       "      <td>United States</td>\n",
       "      <td>...</td>\n",
       "      <td>7.5</td>\n",
       "      <td>$21,427,700,000,000</td>\n",
       "      <td>88.2</td>\n",
       "      <td>101.8</td>\n",
       "      <td>78.5</td>\n",
       "      <td>9.6</td>\n",
       "      <td>36.6</td>\n",
       "      <td>328239523.0</td>\n",
       "      <td>37.090240</td>\n",
       "      <td>-95.712891</td>\n",
       "    </tr>\n",
       "  </tbody>\n",
       "</table>\n",
       "<p>5 rows × 35 columns</p>\n",
       "</div>"
      ],
      "text/plain": [
       "   rank  finalWorth               category                personName   age  \\\n",
       "0     1      211000       Fashion & Retail  Bernard Arnault & family  74.0   \n",
       "1     2      180000             Automotive                 Elon Musk  51.0   \n",
       "2     3      114000             Technology                Jeff Bezos  59.0   \n",
       "3     4      107000             Technology             Larry Ellison  78.0   \n",
       "4     5      106000  Finance & Investments            Warren Buffett  92.0   \n",
       "\n",
       "         country    city              source             industries  \\\n",
       "0         France   Paris                LVMH       Fashion & Retail   \n",
       "1  United States  Austin       Tesla, SpaceX             Automotive   \n",
       "2  United States  Medina              Amazon             Technology   \n",
       "3  United States   Lanai              Oracle             Technology   \n",
       "4  United States   Omaha  Berkshire Hathaway  Finance & Investments   \n",
       "\n",
       "  countryOfCitizenship  ... cpi_change_country           gdp_country  \\\n",
       "0               France  ...                1.1   $2,715,518,274,227    \n",
       "1        United States  ...                7.5  $21,427,700,000,000    \n",
       "2        United States  ...                7.5  $21,427,700,000,000    \n",
       "3        United States  ...                7.5  $21,427,700,000,000    \n",
       "4        United States  ...                7.5  $21,427,700,000,000    \n",
       "\n",
       "  gross_tertiary_education_enrollment  \\\n",
       "0                                65.6   \n",
       "1                                88.2   \n",
       "2                                88.2   \n",
       "3                                88.2   \n",
       "4                                88.2   \n",
       "\n",
       "  gross_primary_education_enrollment_country life_expectancy_country  \\\n",
       "0                                      102.5                    82.5   \n",
       "1                                      101.8                    78.5   \n",
       "2                                      101.8                    78.5   \n",
       "3                                      101.8                    78.5   \n",
       "4                                      101.8                    78.5   \n",
       "\n",
       "  tax_revenue_country_country total_tax_rate_country population_country  \\\n",
       "0                        24.2                   60.7         67059887.0   \n",
       "1                         9.6                   36.6        328239523.0   \n",
       "2                         9.6                   36.6        328239523.0   \n",
       "3                         9.6                   36.6        328239523.0   \n",
       "4                         9.6                   36.6        328239523.0   \n",
       "\n",
       "  latitude_country longitude_country  \n",
       "0        46.227638          2.213749  \n",
       "1        37.090240        -95.712891  \n",
       "2        37.090240        -95.712891  \n",
       "3        37.090240        -95.712891  \n",
       "4        37.090240        -95.712891  \n",
       "\n",
       "[5 rows x 35 columns]"
      ]
     },
     "execution_count": 5,
     "metadata": {},
     "output_type": "execute_result"
    }
   ],
   "source": [
    "data.head()"
   ]
  },
  {
   "cell_type": "code",
   "execution_count": 6,
   "id": "15a31c04",
   "metadata": {
    "execution": {
     "iopub.execute_input": "2024-11-25T17:29:11.952355Z",
     "iopub.status.busy": "2024-11-25T17:29:11.951911Z",
     "iopub.status.idle": "2024-11-25T17:29:11.963696Z",
     "shell.execute_reply": "2024-11-25T17:29:11.961951Z"
    },
    "papermill": {
     "duration": 0.023347,
     "end_time": "2024-11-25T17:29:11.966370",
     "exception": false,
     "start_time": "2024-11-25T17:29:11.943023",
     "status": "completed"
    },
    "tags": []
   },
   "outputs": [
    {
     "data": {
      "text/plain": [
       "rank                                            int64\n",
       "finalWorth                                      int64\n",
       "category                                       object\n",
       "personName                                     object\n",
       "age                                           float64\n",
       "country                                        object\n",
       "city                                           object\n",
       "source                                         object\n",
       "industries                                     object\n",
       "countryOfCitizenship                           object\n",
       "organization                                   object\n",
       "selfMade                                         bool\n",
       "status                                         object\n",
       "gender                                         object\n",
       "birthDate                                      object\n",
       "lastName                                       object\n",
       "firstName                                      object\n",
       "title                                          object\n",
       "date                                           object\n",
       "state                                          object\n",
       "residenceStateRegion                           object\n",
       "birthYear                                     float64\n",
       "birthMonth                                    float64\n",
       "birthDay                                      float64\n",
       "cpi_country                                   float64\n",
       "cpi_change_country                            float64\n",
       "gdp_country                                    object\n",
       "gross_tertiary_education_enrollment           float64\n",
       "gross_primary_education_enrollment_country    float64\n",
       "life_expectancy_country                       float64\n",
       "tax_revenue_country_country                   float64\n",
       "total_tax_rate_country                        float64\n",
       "population_country                            float64\n",
       "latitude_country                              float64\n",
       "longitude_country                             float64\n",
       "dtype: object"
      ]
     },
     "execution_count": 6,
     "metadata": {},
     "output_type": "execute_result"
    }
   ],
   "source": [
    "data.dtypes"
   ]
  },
  {
   "cell_type": "code",
   "execution_count": 7,
   "id": "a77dbe2d",
   "metadata": {
    "execution": {
     "iopub.execute_input": "2024-11-25T17:29:11.988228Z",
     "iopub.status.busy": "2024-11-25T17:29:11.987698Z",
     "iopub.status.idle": "2024-11-25T17:29:12.001134Z",
     "shell.execute_reply": "2024-11-25T17:29:11.999053Z"
    },
    "papermill": {
     "duration": 0.029038,
     "end_time": "2024-11-25T17:29:12.004182",
     "exception": false,
     "start_time": "2024-11-25T17:29:11.975144",
     "status": "completed"
    },
    "tags": []
   },
   "outputs": [
    {
     "data": {
      "text/plain": [
       "0       1949.0\n",
       "1       1971.0\n",
       "2       1964.0\n",
       "3       1944.0\n",
       "4       1930.0\n",
       "         ...  \n",
       "2635    1971.0\n",
       "2636    1943.0\n",
       "2637    1962.0\n",
       "2638    1951.0\n",
       "2639    1956.0\n",
       "Name: birthYear, Length: 2640, dtype: float64"
      ]
     },
     "execution_count": 7,
     "metadata": {},
     "output_type": "execute_result"
    }
   ],
   "source": [
    "data['date']\n",
    "data['birthYear']"
   ]
  },
  {
   "cell_type": "code",
   "execution_count": 8,
   "id": "748ced0e",
   "metadata": {
    "execution": {
     "iopub.execute_input": "2024-11-25T17:29:12.025389Z",
     "iopub.status.busy": "2024-11-25T17:29:12.024955Z",
     "iopub.status.idle": "2024-11-25T17:29:12.249484Z",
     "shell.execute_reply": "2024-11-25T17:29:12.248055Z"
    },
    "papermill": {
     "duration": 0.239742,
     "end_time": "2024-11-25T17:29:12.253494",
     "exception": false,
     "start_time": "2024-11-25T17:29:12.013752",
     "status": "completed"
    },
    "tags": []
   },
   "outputs": [
    {
     "data": {
      "text/plain": [
       "0       1949.0\n",
       "1       1971.0\n",
       "2       1964.0\n",
       "3       1944.0\n",
       "4       1930.0\n",
       "         ...  \n",
       "2635    1971.0\n",
       "2636    1943.0\n",
       "2637    1962.0\n",
       "2638    1951.0\n",
       "2639    1956.0\n",
       "Name: birthYear, Length: 2640, dtype: float64"
      ]
     },
     "execution_count": 8,
     "metadata": {},
     "output_type": "execute_result"
    }
   ],
   "source": [
    "data['date'] = data['date'].astype('datetime64[ns]')\n",
    "data['birthYear']"
   ]
  },
  {
   "cell_type": "code",
   "execution_count": 9,
   "id": "ebe1bc50",
   "metadata": {
    "execution": {
     "iopub.execute_input": "2024-11-25T17:29:12.273674Z",
     "iopub.status.busy": "2024-11-25T17:29:12.273284Z",
     "iopub.status.idle": "2024-11-25T17:29:12.280127Z",
     "shell.execute_reply": "2024-11-25T17:29:12.279031Z"
    },
    "papermill": {
     "duration": 0.018922,
     "end_time": "2024-11-25T17:29:12.282456",
     "exception": false,
     "start_time": "2024-11-25T17:29:12.263534",
     "status": "completed"
    },
    "tags": []
   },
   "outputs": [
    {
     "data": {
      "text/plain": [
       "dtype('<M8[ns]')"
      ]
     },
     "execution_count": 9,
     "metadata": {},
     "output_type": "execute_result"
    }
   ],
   "source": [
    "# Check data type\n",
    "data['date'].dtypes"
   ]
  },
  {
   "cell_type": "code",
   "execution_count": 10,
   "id": "b6f77d25",
   "metadata": {
    "execution": {
     "iopub.execute_input": "2024-11-25T17:29:12.301897Z",
     "iopub.status.busy": "2024-11-25T17:29:12.301511Z",
     "iopub.status.idle": "2024-11-25T17:29:12.312814Z",
     "shell.execute_reply": "2024-11-25T17:29:12.311120Z"
    },
    "papermill": {
     "duration": 0.024423,
     "end_time": "2024-11-25T17:29:12.315623",
     "exception": false,
     "start_time": "2024-11-25T17:29:12.291200",
     "status": "completed"
    },
    "tags": []
   },
   "outputs": [
    {
     "data": {
      "text/plain": [
       "rank                                                   int64\n",
       "finalWorth                                             int64\n",
       "category                                              object\n",
       "personName                                            object\n",
       "age                                                  float64\n",
       "country                                               object\n",
       "city                                                  object\n",
       "source                                                object\n",
       "industries                                            object\n",
       "countryOfCitizenship                                  object\n",
       "organization                                          object\n",
       "selfMade                                                bool\n",
       "status                                                object\n",
       "gender                                                object\n",
       "birthDate                                             object\n",
       "lastName                                              object\n",
       "firstName                                             object\n",
       "title                                                 object\n",
       "date                                          datetime64[ns]\n",
       "state                                                 object\n",
       "residenceStateRegion                                  object\n",
       "birthYear                                            float64\n",
       "birthMonth                                           float64\n",
       "birthDay                                             float64\n",
       "cpi_country                                          float64\n",
       "cpi_change_country                                   float64\n",
       "gdp_country                                           object\n",
       "gross_tertiary_education_enrollment                  float64\n",
       "gross_primary_education_enrollment_country           float64\n",
       "life_expectancy_country                              float64\n",
       "tax_revenue_country_country                          float64\n",
       "total_tax_rate_country                               float64\n",
       "population_country                                   float64\n",
       "latitude_country                                     float64\n",
       "longitude_country                                    float64\n",
       "dtype: object"
      ]
     },
     "execution_count": 10,
     "metadata": {},
     "output_type": "execute_result"
    }
   ],
   "source": [
    "data.dtypes"
   ]
  },
  {
   "cell_type": "code",
   "execution_count": 11,
   "id": "bcb1824c",
   "metadata": {
    "execution": {
     "iopub.execute_input": "2024-11-25T17:29:12.335624Z",
     "iopub.status.busy": "2024-11-25T17:29:12.335242Z",
     "iopub.status.idle": "2024-11-25T17:29:12.399602Z",
     "shell.execute_reply": "2024-11-25T17:29:12.398296Z"
    },
    "papermill": {
     "duration": 0.077145,
     "end_time": "2024-11-25T17:29:12.402530",
     "exception": false,
     "start_time": "2024-11-25T17:29:12.325385",
     "status": "completed"
    },
    "tags": []
   },
   "outputs": [
    {
     "data": {
      "text/html": [
       "<div>\n",
       "<style scoped>\n",
       "    .dataframe tbody tr th:only-of-type {\n",
       "        vertical-align: middle;\n",
       "    }\n",
       "\n",
       "    .dataframe tbody tr th {\n",
       "        vertical-align: top;\n",
       "    }\n",
       "\n",
       "    .dataframe thead th {\n",
       "        text-align: right;\n",
       "    }\n",
       "</style>\n",
       "<table border=\"1\" class=\"dataframe\">\n",
       "  <thead>\n",
       "    <tr style=\"text-align: right;\">\n",
       "      <th></th>\n",
       "      <th>rank</th>\n",
       "      <th>finalWorth</th>\n",
       "      <th>age</th>\n",
       "      <th>date</th>\n",
       "      <th>birthYear</th>\n",
       "      <th>birthMonth</th>\n",
       "      <th>birthDay</th>\n",
       "      <th>cpi_country</th>\n",
       "      <th>cpi_change_country</th>\n",
       "      <th>gross_tertiary_education_enrollment</th>\n",
       "      <th>gross_primary_education_enrollment_country</th>\n",
       "      <th>life_expectancy_country</th>\n",
       "      <th>tax_revenue_country_country</th>\n",
       "      <th>total_tax_rate_country</th>\n",
       "      <th>population_country</th>\n",
       "      <th>latitude_country</th>\n",
       "      <th>longitude_country</th>\n",
       "    </tr>\n",
       "  </thead>\n",
       "  <tbody>\n",
       "    <tr>\n",
       "      <th>count</th>\n",
       "      <td>2640.000000</td>\n",
       "      <td>2640.000000</td>\n",
       "      <td>2575.000000</td>\n",
       "      <td>2640</td>\n",
       "      <td>2564.000000</td>\n",
       "      <td>2564.000000</td>\n",
       "      <td>2564.000000</td>\n",
       "      <td>2456.000000</td>\n",
       "      <td>2456.000000</td>\n",
       "      <td>2458.000000</td>\n",
       "      <td>2459.000000</td>\n",
       "      <td>2458.000000</td>\n",
       "      <td>2457.000000</td>\n",
       "      <td>2458.000000</td>\n",
       "      <td>2.476000e+03</td>\n",
       "      <td>2476.000000</td>\n",
       "      <td>2476.000000</td>\n",
       "    </tr>\n",
       "    <tr>\n",
       "      <th>mean</th>\n",
       "      <td>1289.159091</td>\n",
       "      <td>4623.787879</td>\n",
       "      <td>65.140194</td>\n",
       "      <td>2023-04-04 05:01:10.909091072</td>\n",
       "      <td>1957.183307</td>\n",
       "      <td>5.740250</td>\n",
       "      <td>12.099844</td>\n",
       "      <td>127.755204</td>\n",
       "      <td>4.364169</td>\n",
       "      <td>67.225671</td>\n",
       "      <td>102.858520</td>\n",
       "      <td>78.122823</td>\n",
       "      <td>12.546235</td>\n",
       "      <td>43.963344</td>\n",
       "      <td>5.102053e+08</td>\n",
       "      <td>34.903592</td>\n",
       "      <td>12.583156</td>\n",
       "    </tr>\n",
       "    <tr>\n",
       "      <th>min</th>\n",
       "      <td>1.000000</td>\n",
       "      <td>1000.000000</td>\n",
       "      <td>18.000000</td>\n",
       "      <td>2023-04-04 05:01:00</td>\n",
       "      <td>1921.000000</td>\n",
       "      <td>1.000000</td>\n",
       "      <td>1.000000</td>\n",
       "      <td>99.550000</td>\n",
       "      <td>-1.900000</td>\n",
       "      <td>4.000000</td>\n",
       "      <td>84.700000</td>\n",
       "      <td>54.300000</td>\n",
       "      <td>0.100000</td>\n",
       "      <td>9.900000</td>\n",
       "      <td>3.801900e+04</td>\n",
       "      <td>-40.900557</td>\n",
       "      <td>-106.346771</td>\n",
       "    </tr>\n",
       "    <tr>\n",
       "      <th>25%</th>\n",
       "      <td>659.000000</td>\n",
       "      <td>1500.000000</td>\n",
       "      <td>56.000000</td>\n",
       "      <td>2023-04-04 05:01:00</td>\n",
       "      <td>1948.000000</td>\n",
       "      <td>2.000000</td>\n",
       "      <td>1.000000</td>\n",
       "      <td>117.240000</td>\n",
       "      <td>1.700000</td>\n",
       "      <td>50.600000</td>\n",
       "      <td>100.200000</td>\n",
       "      <td>77.000000</td>\n",
       "      <td>9.600000</td>\n",
       "      <td>36.600000</td>\n",
       "      <td>6.683440e+07</td>\n",
       "      <td>35.861660</td>\n",
       "      <td>-95.712891</td>\n",
       "    </tr>\n",
       "    <tr>\n",
       "      <th>50%</th>\n",
       "      <td>1312.000000</td>\n",
       "      <td>2300.000000</td>\n",
       "      <td>65.000000</td>\n",
       "      <td>2023-04-04 05:01:00</td>\n",
       "      <td>1957.000000</td>\n",
       "      <td>6.000000</td>\n",
       "      <td>11.000000</td>\n",
       "      <td>117.240000</td>\n",
       "      <td>2.900000</td>\n",
       "      <td>65.600000</td>\n",
       "      <td>101.800000</td>\n",
       "      <td>78.500000</td>\n",
       "      <td>9.600000</td>\n",
       "      <td>41.200000</td>\n",
       "      <td>3.282395e+08</td>\n",
       "      <td>37.090240</td>\n",
       "      <td>10.451526</td>\n",
       "    </tr>\n",
       "    <tr>\n",
       "      <th>75%</th>\n",
       "      <td>1905.000000</td>\n",
       "      <td>4200.000000</td>\n",
       "      <td>75.000000</td>\n",
       "      <td>2023-04-04 05:01:00</td>\n",
       "      <td>1966.000000</td>\n",
       "      <td>9.000000</td>\n",
       "      <td>21.000000</td>\n",
       "      <td>125.080000</td>\n",
       "      <td>7.500000</td>\n",
       "      <td>88.200000</td>\n",
       "      <td>102.600000</td>\n",
       "      <td>80.900000</td>\n",
       "      <td>12.800000</td>\n",
       "      <td>59.100000</td>\n",
       "      <td>1.366418e+09</td>\n",
       "      <td>40.463667</td>\n",
       "      <td>104.195397</td>\n",
       "    </tr>\n",
       "    <tr>\n",
       "      <th>max</th>\n",
       "      <td>2540.000000</td>\n",
       "      <td>211000.000000</td>\n",
       "      <td>101.000000</td>\n",
       "      <td>2023-04-04 09:01:00</td>\n",
       "      <td>2004.000000</td>\n",
       "      <td>12.000000</td>\n",
       "      <td>31.000000</td>\n",
       "      <td>288.570000</td>\n",
       "      <td>53.500000</td>\n",
       "      <td>136.600000</td>\n",
       "      <td>142.100000</td>\n",
       "      <td>84.200000</td>\n",
       "      <td>37.200000</td>\n",
       "      <td>106.300000</td>\n",
       "      <td>1.397715e+09</td>\n",
       "      <td>61.924110</td>\n",
       "      <td>174.885971</td>\n",
       "    </tr>\n",
       "    <tr>\n",
       "      <th>std</th>\n",
       "      <td>739.693726</td>\n",
       "      <td>9834.240939</td>\n",
       "      <td>13.258098</td>\n",
       "      <td>NaN</td>\n",
       "      <td>13.282516</td>\n",
       "      <td>3.710085</td>\n",
       "      <td>9.918876</td>\n",
       "      <td>26.452951</td>\n",
       "      <td>3.623763</td>\n",
       "      <td>21.343426</td>\n",
       "      <td>4.710977</td>\n",
       "      <td>3.730099</td>\n",
       "      <td>5.368625</td>\n",
       "      <td>12.145296</td>\n",
       "      <td>5.542447e+08</td>\n",
       "      <td>17.003497</td>\n",
       "      <td>86.762989</td>\n",
       "    </tr>\n",
       "  </tbody>\n",
       "</table>\n",
       "</div>"
      ],
      "text/plain": [
       "              rank     finalWorth          age                           date  \\\n",
       "count  2640.000000    2640.000000  2575.000000                           2640   \n",
       "mean   1289.159091    4623.787879    65.140194  2023-04-04 05:01:10.909091072   \n",
       "min       1.000000    1000.000000    18.000000            2023-04-04 05:01:00   \n",
       "25%     659.000000    1500.000000    56.000000            2023-04-04 05:01:00   \n",
       "50%    1312.000000    2300.000000    65.000000            2023-04-04 05:01:00   \n",
       "75%    1905.000000    4200.000000    75.000000            2023-04-04 05:01:00   \n",
       "max    2540.000000  211000.000000   101.000000            2023-04-04 09:01:00   \n",
       "std     739.693726    9834.240939    13.258098                            NaN   \n",
       "\n",
       "         birthYear   birthMonth     birthDay  cpi_country  cpi_change_country  \\\n",
       "count  2564.000000  2564.000000  2564.000000  2456.000000         2456.000000   \n",
       "mean   1957.183307     5.740250    12.099844   127.755204            4.364169   \n",
       "min    1921.000000     1.000000     1.000000    99.550000           -1.900000   \n",
       "25%    1948.000000     2.000000     1.000000   117.240000            1.700000   \n",
       "50%    1957.000000     6.000000    11.000000   117.240000            2.900000   \n",
       "75%    1966.000000     9.000000    21.000000   125.080000            7.500000   \n",
       "max    2004.000000    12.000000    31.000000   288.570000           53.500000   \n",
       "std      13.282516     3.710085     9.918876    26.452951            3.623763   \n",
       "\n",
       "       gross_tertiary_education_enrollment  \\\n",
       "count                          2458.000000   \n",
       "mean                             67.225671   \n",
       "min                               4.000000   \n",
       "25%                              50.600000   \n",
       "50%                              65.600000   \n",
       "75%                              88.200000   \n",
       "max                             136.600000   \n",
       "std                              21.343426   \n",
       "\n",
       "       gross_primary_education_enrollment_country  life_expectancy_country  \\\n",
       "count                                 2459.000000              2458.000000   \n",
       "mean                                   102.858520                78.122823   \n",
       "min                                     84.700000                54.300000   \n",
       "25%                                    100.200000                77.000000   \n",
       "50%                                    101.800000                78.500000   \n",
       "75%                                    102.600000                80.900000   \n",
       "max                                    142.100000                84.200000   \n",
       "std                                      4.710977                 3.730099   \n",
       "\n",
       "       tax_revenue_country_country  total_tax_rate_country  \\\n",
       "count                  2457.000000             2458.000000   \n",
       "mean                     12.546235               43.963344   \n",
       "min                       0.100000                9.900000   \n",
       "25%                       9.600000               36.600000   \n",
       "50%                       9.600000               41.200000   \n",
       "75%                      12.800000               59.100000   \n",
       "max                      37.200000              106.300000   \n",
       "std                       5.368625               12.145296   \n",
       "\n",
       "       population_country  latitude_country  longitude_country  \n",
       "count        2.476000e+03       2476.000000        2476.000000  \n",
       "mean         5.102053e+08         34.903592          12.583156  \n",
       "min          3.801900e+04        -40.900557        -106.346771  \n",
       "25%          6.683440e+07         35.861660         -95.712891  \n",
       "50%          3.282395e+08         37.090240          10.451526  \n",
       "75%          1.366418e+09         40.463667         104.195397  \n",
       "max          1.397715e+09         61.924110         174.885971  \n",
       "std          5.542447e+08         17.003497          86.762989  "
      ]
     },
     "execution_count": 11,
     "metadata": {},
     "output_type": "execute_result"
    }
   ],
   "source": [
    "data.describe()"
   ]
  },
  {
   "cell_type": "markdown",
   "id": "5f71bc0b",
   "metadata": {
    "papermill": {
     "duration": 0.009747,
     "end_time": "2024-11-25T17:29:12.422004",
     "exception": false,
     "start_time": "2024-11-25T17:29:12.412257",
     "status": "completed"
    },
    "tags": []
   },
   "source": [
    "# Data preparation\n",
    "* Dropping irrelevant columns and rows\n",
    "* Identifying duplicated rows and columns\n",
    "* Renaming columns"
   ]
  },
  {
   "cell_type": "code",
   "execution_count": 12,
   "id": "1f5074ee",
   "metadata": {
    "execution": {
     "iopub.execute_input": "2024-11-25T17:29:12.441342Z",
     "iopub.status.busy": "2024-11-25T17:29:12.440934Z",
     "iopub.status.idle": "2024-11-25T17:29:12.449578Z",
     "shell.execute_reply": "2024-11-25T17:29:12.448471Z"
    },
    "papermill": {
     "duration": 0.021468,
     "end_time": "2024-11-25T17:29:12.452145",
     "exception": false,
     "start_time": "2024-11-25T17:29:12.430677",
     "status": "completed"
    },
    "tags": []
   },
   "outputs": [
    {
     "data": {
      "text/plain": [
       "Index(['rank', 'finalWorth', 'category', 'personName', 'age', 'country',\n",
       "       'city', 'source', 'industries', 'countryOfCitizenship', 'organization',\n",
       "       'selfMade', 'status', 'gender', 'birthDate', 'lastName', 'firstName',\n",
       "       'title', 'date', 'state', 'residenceStateRegion', 'birthYear',\n",
       "       'birthMonth', 'birthDay', 'cpi_country', 'cpi_change_country',\n",
       "       'gdp_country', 'gross_tertiary_education_enrollment',\n",
       "       'gross_primary_education_enrollment_country', 'life_expectancy_country',\n",
       "       'tax_revenue_country_country', 'total_tax_rate_country',\n",
       "       'population_country', 'latitude_country', 'longitude_country'],\n",
       "      dtype='object')"
      ]
     },
     "execution_count": 12,
     "metadata": {},
     "output_type": "execute_result"
    }
   ],
   "source": [
    "data.columns"
   ]
  },
  {
   "cell_type": "code",
   "execution_count": 13,
   "id": "a8840f52",
   "metadata": {
    "execution": {
     "iopub.execute_input": "2024-11-25T17:29:12.474053Z",
     "iopub.status.busy": "2024-11-25T17:29:12.473516Z",
     "iopub.status.idle": "2024-11-25T17:29:12.482638Z",
     "shell.execute_reply": "2024-11-25T17:29:12.481464Z"
    },
    "papermill": {
     "duration": 0.02326,
     "end_time": "2024-11-25T17:29:12.486092",
     "exception": false,
     "start_time": "2024-11-25T17:29:12.462832",
     "status": "completed"
    },
    "tags": []
   },
   "outputs": [],
   "source": [
    "data = data.rename(columns={'rank':'Rank', 'finalWorth':'FinalWorth', 'category':'Category', 'personName':'PersonName', 'age':'Age', 'country':'Country',\n",
    "       'city':'City', 'source':'Source', 'industries':'Industries', 'countryOfCitizenship':'CountryofCitizenship', 'organization':'Organization',\n",
    "       'selfMade':'Selfmade', 'status':'Status', 'gender':'Gender', 'birthDate':'Birthdate', 'lastName':'Lastname', 'firstName':'Firstname',\n",
    "       'title':'Title', \n",
    "       'birthMonth':'Birthmonth', 'birthDay':'Birthday'})"
   ]
  },
  {
   "cell_type": "code",
   "execution_count": 14,
   "id": "ddebfade",
   "metadata": {
    "execution": {
     "iopub.execute_input": "2024-11-25T17:29:12.506963Z",
     "iopub.status.busy": "2024-11-25T17:29:12.506352Z",
     "iopub.status.idle": "2024-11-25T17:29:12.519541Z",
     "shell.execute_reply": "2024-11-25T17:29:12.517301Z"
    },
    "papermill": {
     "duration": 0.027231,
     "end_time": "2024-11-25T17:29:12.522750",
     "exception": false,
     "start_time": "2024-11-25T17:29:12.495519",
     "status": "completed"
    },
    "tags": []
   },
   "outputs": [
    {
     "data": {
      "text/plain": [
       "0         Arnault\n",
       "1            Musk\n",
       "2           Bezos\n",
       "3         Ellison\n",
       "4         Buffett\n",
       "          ...    \n",
       "2635           Yu\n",
       "2636    Yuengling\n",
       "2637        Zhang\n",
       "2638        Zhang\n",
       "2639        Zobel\n",
       "Name: Lastname, Length: 2640, dtype: object"
      ]
     },
     "execution_count": 14,
     "metadata": {},
     "output_type": "execute_result"
    }
   ],
   "source": [
    "data['Lastname']"
   ]
  },
  {
   "cell_type": "code",
   "execution_count": 15,
   "id": "4ad677ba",
   "metadata": {
    "execution": {
     "iopub.execute_input": "2024-11-25T17:29:12.543911Z",
     "iopub.status.busy": "2024-11-25T17:29:12.543502Z",
     "iopub.status.idle": "2024-11-25T17:29:12.553136Z",
     "shell.execute_reply": "2024-11-25T17:29:12.552054Z"
    },
    "papermill": {
     "duration": 0.024035,
     "end_time": "2024-11-25T17:29:12.556282",
     "exception": false,
     "start_time": "2024-11-25T17:29:12.532247",
     "status": "completed"
    },
    "tags": []
   },
   "outputs": [],
   "source": [
    "# Dropping irrelevant columns\n",
    "data = data[['Rank', 'FinalWorth', 'Category', 'PersonName', 'Age', 'Country',\n",
    "       'City', 'Source', 'Industries', 'CountryofCitizenship', 'Organization',\n",
    "       'Selfmade', 'Status', 'Gender', \n",
    "      #'Birthdate', 'Lastname', 'Firstname',\n",
    "       'Title', 'date', 'state', 'residenceStateRegion', \n",
    "      #'birthYear',\n",
    "       #'Birthmonth', 'Birthday', \n",
    "      'cpi_country', 'cpi_change_country',\n",
    "       'gdp_country', 'gross_tertiary_education_enrollment',\n",
    "       'gross_primary_education_enrollment_country', \n",
    "      #'life_expectancy_country',\n",
    "       'tax_revenue_country_country', 'total_tax_rate_country',\n",
    "       'population_country', 'latitude_country', 'longitude_country']].copy()"
   ]
  },
  {
   "cell_type": "code",
   "execution_count": 16,
   "id": "01a123bb",
   "metadata": {
    "execution": {
     "iopub.execute_input": "2024-11-25T17:29:12.578383Z",
     "iopub.status.busy": "2024-11-25T17:29:12.577703Z",
     "iopub.status.idle": "2024-11-25T17:29:12.586423Z",
     "shell.execute_reply": "2024-11-25T17:29:12.585193Z"
    },
    "papermill": {
     "duration": 0.021944,
     "end_time": "2024-11-25T17:29:12.588576",
     "exception": false,
     "start_time": "2024-11-25T17:29:12.566632",
     "status": "completed"
    },
    "tags": []
   },
   "outputs": [
    {
     "data": {
      "text/plain": [
       "(2640, 28)"
      ]
     },
     "execution_count": 16,
     "metadata": {},
     "output_type": "execute_result"
    }
   ],
   "source": [
    "data.shape"
   ]
  },
  {
   "cell_type": "code",
   "execution_count": 17,
   "id": "639ba817",
   "metadata": {
    "execution": {
     "iopub.execute_input": "2024-11-25T17:29:12.609723Z",
     "iopub.status.busy": "2024-11-25T17:29:12.609309Z",
     "iopub.status.idle": "2024-11-25T17:29:12.641308Z",
     "shell.execute_reply": "2024-11-25T17:29:12.640127Z"
    },
    "papermill": {
     "duration": 0.045056,
     "end_time": "2024-11-25T17:29:12.643627",
     "exception": false,
     "start_time": "2024-11-25T17:29:12.598571",
     "status": "completed"
    },
    "tags": []
   },
   "outputs": [
    {
     "data": {
      "text/html": [
       "<div>\n",
       "<style scoped>\n",
       "    .dataframe tbody tr th:only-of-type {\n",
       "        vertical-align: middle;\n",
       "    }\n",
       "\n",
       "    .dataframe tbody tr th {\n",
       "        vertical-align: top;\n",
       "    }\n",
       "\n",
       "    .dataframe thead th {\n",
       "        text-align: right;\n",
       "    }\n",
       "</style>\n",
       "<table border=\"1\" class=\"dataframe\">\n",
       "  <thead>\n",
       "    <tr style=\"text-align: right;\">\n",
       "      <th></th>\n",
       "      <th>Rank</th>\n",
       "      <th>FinalWorth</th>\n",
       "      <th>Category</th>\n",
       "      <th>PersonName</th>\n",
       "      <th>Age</th>\n",
       "      <th>Country</th>\n",
       "      <th>City</th>\n",
       "      <th>Source</th>\n",
       "      <th>Industries</th>\n",
       "      <th>CountryofCitizenship</th>\n",
       "      <th>...</th>\n",
       "      <th>cpi_country</th>\n",
       "      <th>cpi_change_country</th>\n",
       "      <th>gdp_country</th>\n",
       "      <th>gross_tertiary_education_enrollment</th>\n",
       "      <th>gross_primary_education_enrollment_country</th>\n",
       "      <th>tax_revenue_country_country</th>\n",
       "      <th>total_tax_rate_country</th>\n",
       "      <th>population_country</th>\n",
       "      <th>latitude_country</th>\n",
       "      <th>longitude_country</th>\n",
       "    </tr>\n",
       "  </thead>\n",
       "  <tbody>\n",
       "    <tr>\n",
       "      <th>0</th>\n",
       "      <td>False</td>\n",
       "      <td>False</td>\n",
       "      <td>False</td>\n",
       "      <td>False</td>\n",
       "      <td>False</td>\n",
       "      <td>False</td>\n",
       "      <td>False</td>\n",
       "      <td>False</td>\n",
       "      <td>False</td>\n",
       "      <td>False</td>\n",
       "      <td>...</td>\n",
       "      <td>False</td>\n",
       "      <td>False</td>\n",
       "      <td>False</td>\n",
       "      <td>False</td>\n",
       "      <td>False</td>\n",
       "      <td>False</td>\n",
       "      <td>False</td>\n",
       "      <td>False</td>\n",
       "      <td>False</td>\n",
       "      <td>False</td>\n",
       "    </tr>\n",
       "    <tr>\n",
       "      <th>1</th>\n",
       "      <td>False</td>\n",
       "      <td>False</td>\n",
       "      <td>False</td>\n",
       "      <td>False</td>\n",
       "      <td>False</td>\n",
       "      <td>False</td>\n",
       "      <td>False</td>\n",
       "      <td>False</td>\n",
       "      <td>False</td>\n",
       "      <td>False</td>\n",
       "      <td>...</td>\n",
       "      <td>False</td>\n",
       "      <td>False</td>\n",
       "      <td>False</td>\n",
       "      <td>False</td>\n",
       "      <td>False</td>\n",
       "      <td>False</td>\n",
       "      <td>False</td>\n",
       "      <td>False</td>\n",
       "      <td>False</td>\n",
       "      <td>False</td>\n",
       "    </tr>\n",
       "    <tr>\n",
       "      <th>2</th>\n",
       "      <td>False</td>\n",
       "      <td>False</td>\n",
       "      <td>False</td>\n",
       "      <td>False</td>\n",
       "      <td>False</td>\n",
       "      <td>False</td>\n",
       "      <td>False</td>\n",
       "      <td>False</td>\n",
       "      <td>False</td>\n",
       "      <td>False</td>\n",
       "      <td>...</td>\n",
       "      <td>False</td>\n",
       "      <td>False</td>\n",
       "      <td>False</td>\n",
       "      <td>False</td>\n",
       "      <td>False</td>\n",
       "      <td>False</td>\n",
       "      <td>False</td>\n",
       "      <td>False</td>\n",
       "      <td>False</td>\n",
       "      <td>False</td>\n",
       "    </tr>\n",
       "    <tr>\n",
       "      <th>3</th>\n",
       "      <td>False</td>\n",
       "      <td>False</td>\n",
       "      <td>False</td>\n",
       "      <td>False</td>\n",
       "      <td>False</td>\n",
       "      <td>False</td>\n",
       "      <td>False</td>\n",
       "      <td>False</td>\n",
       "      <td>False</td>\n",
       "      <td>False</td>\n",
       "      <td>...</td>\n",
       "      <td>False</td>\n",
       "      <td>False</td>\n",
       "      <td>False</td>\n",
       "      <td>False</td>\n",
       "      <td>False</td>\n",
       "      <td>False</td>\n",
       "      <td>False</td>\n",
       "      <td>False</td>\n",
       "      <td>False</td>\n",
       "      <td>False</td>\n",
       "    </tr>\n",
       "    <tr>\n",
       "      <th>4</th>\n",
       "      <td>False</td>\n",
       "      <td>False</td>\n",
       "      <td>False</td>\n",
       "      <td>False</td>\n",
       "      <td>False</td>\n",
       "      <td>False</td>\n",
       "      <td>False</td>\n",
       "      <td>False</td>\n",
       "      <td>False</td>\n",
       "      <td>False</td>\n",
       "      <td>...</td>\n",
       "      <td>False</td>\n",
       "      <td>False</td>\n",
       "      <td>False</td>\n",
       "      <td>False</td>\n",
       "      <td>False</td>\n",
       "      <td>False</td>\n",
       "      <td>False</td>\n",
       "      <td>False</td>\n",
       "      <td>False</td>\n",
       "      <td>False</td>\n",
       "    </tr>\n",
       "    <tr>\n",
       "      <th>...</th>\n",
       "      <td>...</td>\n",
       "      <td>...</td>\n",
       "      <td>...</td>\n",
       "      <td>...</td>\n",
       "      <td>...</td>\n",
       "      <td>...</td>\n",
       "      <td>...</td>\n",
       "      <td>...</td>\n",
       "      <td>...</td>\n",
       "      <td>...</td>\n",
       "      <td>...</td>\n",
       "      <td>...</td>\n",
       "      <td>...</td>\n",
       "      <td>...</td>\n",
       "      <td>...</td>\n",
       "      <td>...</td>\n",
       "      <td>...</td>\n",
       "      <td>...</td>\n",
       "      <td>...</td>\n",
       "      <td>...</td>\n",
       "      <td>...</td>\n",
       "    </tr>\n",
       "    <tr>\n",
       "      <th>2635</th>\n",
       "      <td>False</td>\n",
       "      <td>False</td>\n",
       "      <td>False</td>\n",
       "      <td>False</td>\n",
       "      <td>False</td>\n",
       "      <td>False</td>\n",
       "      <td>False</td>\n",
       "      <td>False</td>\n",
       "      <td>False</td>\n",
       "      <td>False</td>\n",
       "      <td>...</td>\n",
       "      <td>False</td>\n",
       "      <td>False</td>\n",
       "      <td>False</td>\n",
       "      <td>False</td>\n",
       "      <td>False</td>\n",
       "      <td>False</td>\n",
       "      <td>False</td>\n",
       "      <td>False</td>\n",
       "      <td>False</td>\n",
       "      <td>False</td>\n",
       "    </tr>\n",
       "    <tr>\n",
       "      <th>2636</th>\n",
       "      <td>False</td>\n",
       "      <td>False</td>\n",
       "      <td>False</td>\n",
       "      <td>False</td>\n",
       "      <td>False</td>\n",
       "      <td>False</td>\n",
       "      <td>False</td>\n",
       "      <td>False</td>\n",
       "      <td>False</td>\n",
       "      <td>False</td>\n",
       "      <td>...</td>\n",
       "      <td>False</td>\n",
       "      <td>False</td>\n",
       "      <td>False</td>\n",
       "      <td>False</td>\n",
       "      <td>False</td>\n",
       "      <td>False</td>\n",
       "      <td>False</td>\n",
       "      <td>False</td>\n",
       "      <td>False</td>\n",
       "      <td>False</td>\n",
       "    </tr>\n",
       "    <tr>\n",
       "      <th>2637</th>\n",
       "      <td>False</td>\n",
       "      <td>False</td>\n",
       "      <td>False</td>\n",
       "      <td>False</td>\n",
       "      <td>False</td>\n",
       "      <td>False</td>\n",
       "      <td>False</td>\n",
       "      <td>False</td>\n",
       "      <td>False</td>\n",
       "      <td>False</td>\n",
       "      <td>...</td>\n",
       "      <td>False</td>\n",
       "      <td>False</td>\n",
       "      <td>False</td>\n",
       "      <td>False</td>\n",
       "      <td>False</td>\n",
       "      <td>False</td>\n",
       "      <td>False</td>\n",
       "      <td>False</td>\n",
       "      <td>False</td>\n",
       "      <td>False</td>\n",
       "    </tr>\n",
       "    <tr>\n",
       "      <th>2638</th>\n",
       "      <td>False</td>\n",
       "      <td>False</td>\n",
       "      <td>False</td>\n",
       "      <td>False</td>\n",
       "      <td>False</td>\n",
       "      <td>False</td>\n",
       "      <td>False</td>\n",
       "      <td>False</td>\n",
       "      <td>False</td>\n",
       "      <td>False</td>\n",
       "      <td>...</td>\n",
       "      <td>False</td>\n",
       "      <td>False</td>\n",
       "      <td>False</td>\n",
       "      <td>False</td>\n",
       "      <td>False</td>\n",
       "      <td>False</td>\n",
       "      <td>False</td>\n",
       "      <td>False</td>\n",
       "      <td>False</td>\n",
       "      <td>False</td>\n",
       "    </tr>\n",
       "    <tr>\n",
       "      <th>2639</th>\n",
       "      <td>False</td>\n",
       "      <td>False</td>\n",
       "      <td>False</td>\n",
       "      <td>False</td>\n",
       "      <td>False</td>\n",
       "      <td>False</td>\n",
       "      <td>False</td>\n",
       "      <td>False</td>\n",
       "      <td>False</td>\n",
       "      <td>False</td>\n",
       "      <td>...</td>\n",
       "      <td>False</td>\n",
       "      <td>False</td>\n",
       "      <td>False</td>\n",
       "      <td>False</td>\n",
       "      <td>False</td>\n",
       "      <td>False</td>\n",
       "      <td>False</td>\n",
       "      <td>False</td>\n",
       "      <td>False</td>\n",
       "      <td>False</td>\n",
       "    </tr>\n",
       "  </tbody>\n",
       "</table>\n",
       "<p>2640 rows × 28 columns</p>\n",
       "</div>"
      ],
      "text/plain": [
       "       Rank  FinalWorth  Category  PersonName    Age  Country   City  Source  \\\n",
       "0     False       False     False       False  False    False  False   False   \n",
       "1     False       False     False       False  False    False  False   False   \n",
       "2     False       False     False       False  False    False  False   False   \n",
       "3     False       False     False       False  False    False  False   False   \n",
       "4     False       False     False       False  False    False  False   False   \n",
       "...     ...         ...       ...         ...    ...      ...    ...     ...   \n",
       "2635  False       False     False       False  False    False  False   False   \n",
       "2636  False       False     False       False  False    False  False   False   \n",
       "2637  False       False     False       False  False    False  False   False   \n",
       "2638  False       False     False       False  False    False  False   False   \n",
       "2639  False       False     False       False  False    False  False   False   \n",
       "\n",
       "      Industries  CountryofCitizenship  ...  cpi_country  cpi_change_country  \\\n",
       "0          False                 False  ...        False               False   \n",
       "1          False                 False  ...        False               False   \n",
       "2          False                 False  ...        False               False   \n",
       "3          False                 False  ...        False               False   \n",
       "4          False                 False  ...        False               False   \n",
       "...          ...                   ...  ...          ...                 ...   \n",
       "2635       False                 False  ...        False               False   \n",
       "2636       False                 False  ...        False               False   \n",
       "2637       False                 False  ...        False               False   \n",
       "2638       False                 False  ...        False               False   \n",
       "2639       False                 False  ...        False               False   \n",
       "\n",
       "      gdp_country  gross_tertiary_education_enrollment  \\\n",
       "0           False                                False   \n",
       "1           False                                False   \n",
       "2           False                                False   \n",
       "3           False                                False   \n",
       "4           False                                False   \n",
       "...           ...                                  ...   \n",
       "2635        False                                False   \n",
       "2636        False                                False   \n",
       "2637        False                                False   \n",
       "2638        False                                False   \n",
       "2639        False                                False   \n",
       "\n",
       "      gross_primary_education_enrollment_country  tax_revenue_country_country  \\\n",
       "0                                          False                        False   \n",
       "1                                          False                        False   \n",
       "2                                          False                        False   \n",
       "3                                          False                        False   \n",
       "4                                          False                        False   \n",
       "...                                          ...                          ...   \n",
       "2635                                       False                        False   \n",
       "2636                                       False                        False   \n",
       "2637                                       False                        False   \n",
       "2638                                       False                        False   \n",
       "2639                                       False                        False   \n",
       "\n",
       "      total_tax_rate_country  population_country  latitude_country  \\\n",
       "0                      False               False             False   \n",
       "1                      False               False             False   \n",
       "2                      False               False             False   \n",
       "3                      False               False             False   \n",
       "4                      False               False             False   \n",
       "...                      ...                 ...               ...   \n",
       "2635                   False               False             False   \n",
       "2636                   False               False             False   \n",
       "2637                   False               False             False   \n",
       "2638                   False               False             False   \n",
       "2639                   False               False             False   \n",
       "\n",
       "      longitude_country  \n",
       "0                 False  \n",
       "1                 False  \n",
       "2                 False  \n",
       "3                 False  \n",
       "4                 False  \n",
       "...                 ...  \n",
       "2635              False  \n",
       "2636              False  \n",
       "2637              False  \n",
       "2638              False  \n",
       "2639              False  \n",
       "\n",
       "[2640 rows x 28 columns]"
      ]
     },
     "execution_count": 17,
     "metadata": {},
     "output_type": "execute_result"
    }
   ],
   "source": [
    "# Identifying missing data\n",
    "data.isna()"
   ]
  },
  {
   "cell_type": "code",
   "execution_count": 18,
   "id": "b485d785",
   "metadata": {
    "execution": {
     "iopub.execute_input": "2024-11-25T17:29:12.665830Z",
     "iopub.status.busy": "2024-11-25T17:29:12.665433Z",
     "iopub.status.idle": "2024-11-25T17:29:12.677563Z",
     "shell.execute_reply": "2024-11-25T17:29:12.676551Z"
    },
    "papermill": {
     "duration": 0.026256,
     "end_time": "2024-11-25T17:29:12.680184",
     "exception": false,
     "start_time": "2024-11-25T17:29:12.653928",
     "status": "completed"
    },
    "tags": []
   },
   "outputs": [
    {
     "data": {
      "text/plain": [
       "Rank                                             0\n",
       "FinalWorth                                       0\n",
       "Category                                         0\n",
       "PersonName                                       0\n",
       "Age                                             65\n",
       "Country                                         38\n",
       "City                                            72\n",
       "Source                                           0\n",
       "Industries                                       0\n",
       "CountryofCitizenship                             0\n",
       "Organization                                  2315\n",
       "Selfmade                                         0\n",
       "Status                                           0\n",
       "Gender                                           0\n",
       "Title                                         2301\n",
       "date                                             0\n",
       "state                                         1887\n",
       "residenceStateRegion                          1893\n",
       "cpi_country                                    184\n",
       "cpi_change_country                             184\n",
       "gdp_country                                    164\n",
       "gross_tertiary_education_enrollment            182\n",
       "gross_primary_education_enrollment_country     181\n",
       "tax_revenue_country_country                    183\n",
       "total_tax_rate_country                         182\n",
       "population_country                             164\n",
       "latitude_country                               164\n",
       "longitude_country                              164\n",
       "dtype: int64"
      ]
     },
     "execution_count": 18,
     "metadata": {},
     "output_type": "execute_result"
    }
   ],
   "source": [
    "data.isna().sum()"
   ]
  },
  {
   "cell_type": "code",
   "execution_count": 19,
   "id": "d5b6e442",
   "metadata": {
    "execution": {
     "iopub.execute_input": "2024-11-25T17:29:12.702089Z",
     "iopub.status.busy": "2024-11-25T17:29:12.701666Z",
     "iopub.status.idle": "2024-11-25T17:29:12.735836Z",
     "shell.execute_reply": "2024-11-25T17:29:12.734278Z"
    },
    "papermill": {
     "duration": 0.048161,
     "end_time": "2024-11-25T17:29:12.738418",
     "exception": false,
     "start_time": "2024-11-25T17:29:12.690257",
     "status": "completed"
    },
    "tags": []
   },
   "outputs": [
    {
     "data": {
      "text/html": [
       "<div>\n",
       "<style scoped>\n",
       "    .dataframe tbody tr th:only-of-type {\n",
       "        vertical-align: middle;\n",
       "    }\n",
       "\n",
       "    .dataframe tbody tr th {\n",
       "        vertical-align: top;\n",
       "    }\n",
       "\n",
       "    .dataframe thead th {\n",
       "        text-align: right;\n",
       "    }\n",
       "</style>\n",
       "<table border=\"1\" class=\"dataframe\">\n",
       "  <thead>\n",
       "    <tr style=\"text-align: right;\">\n",
       "      <th></th>\n",
       "      <th>Rank</th>\n",
       "      <th>FinalWorth</th>\n",
       "      <th>Category</th>\n",
       "      <th>PersonName</th>\n",
       "      <th>Age</th>\n",
       "      <th>Country</th>\n",
       "      <th>City</th>\n",
       "      <th>Source</th>\n",
       "      <th>Industries</th>\n",
       "      <th>CountryofCitizenship</th>\n",
       "      <th>...</th>\n",
       "      <th>cpi_country</th>\n",
       "      <th>cpi_change_country</th>\n",
       "      <th>gdp_country</th>\n",
       "      <th>gross_tertiary_education_enrollment</th>\n",
       "      <th>gross_primary_education_enrollment_country</th>\n",
       "      <th>tax_revenue_country_country</th>\n",
       "      <th>total_tax_rate_country</th>\n",
       "      <th>population_country</th>\n",
       "      <th>latitude_country</th>\n",
       "      <th>longitude_country</th>\n",
       "    </tr>\n",
       "  </thead>\n",
       "  <tbody>\n",
       "    <tr>\n",
       "      <th>0</th>\n",
       "      <td>1</td>\n",
       "      <td>211000</td>\n",
       "      <td>Fashion &amp; Retail</td>\n",
       "      <td>Bernard Arnault &amp; family</td>\n",
       "      <td>74.0</td>\n",
       "      <td>France</td>\n",
       "      <td>Paris</td>\n",
       "      <td>LVMH</td>\n",
       "      <td>Fashion &amp; Retail</td>\n",
       "      <td>France</td>\n",
       "      <td>...</td>\n",
       "      <td>110.05</td>\n",
       "      <td>1.1</td>\n",
       "      <td>$2,715,518,274,227</td>\n",
       "      <td>65.6</td>\n",
       "      <td>102.5</td>\n",
       "      <td>24.2</td>\n",
       "      <td>60.7</td>\n",
       "      <td>6.705989e+07</td>\n",
       "      <td>46.227638</td>\n",
       "      <td>2.213749</td>\n",
       "    </tr>\n",
       "    <tr>\n",
       "      <th>7</th>\n",
       "      <td>8</td>\n",
       "      <td>93000</td>\n",
       "      <td>Telecom</td>\n",
       "      <td>Carlos Slim Helu &amp; family</td>\n",
       "      <td>83.0</td>\n",
       "      <td>Mexico</td>\n",
       "      <td>Mexico City</td>\n",
       "      <td>Telecom</td>\n",
       "      <td>Telecom</td>\n",
       "      <td>Mexico</td>\n",
       "      <td>...</td>\n",
       "      <td>141.54</td>\n",
       "      <td>3.6</td>\n",
       "      <td>$1,258,286,717,125</td>\n",
       "      <td>40.2</td>\n",
       "      <td>105.8</td>\n",
       "      <td>13.1</td>\n",
       "      <td>55.1</td>\n",
       "      <td>1.260140e+08</td>\n",
       "      <td>23.634501</td>\n",
       "      <td>-102.552784</td>\n",
       "    </tr>\n",
       "    <tr>\n",
       "      <th>8</th>\n",
       "      <td>9</td>\n",
       "      <td>83400</td>\n",
       "      <td>Diversified</td>\n",
       "      <td>Mukesh Ambani</td>\n",
       "      <td>65.0</td>\n",
       "      <td>India</td>\n",
       "      <td>Mumbai</td>\n",
       "      <td>Diversified</td>\n",
       "      <td>Diversified</td>\n",
       "      <td>India</td>\n",
       "      <td>...</td>\n",
       "      <td>180.44</td>\n",
       "      <td>7.7</td>\n",
       "      <td>$2,611,000,000,000</td>\n",
       "      <td>28.1</td>\n",
       "      <td>113.0</td>\n",
       "      <td>11.2</td>\n",
       "      <td>49.7</td>\n",
       "      <td>1.366418e+09</td>\n",
       "      <td>20.593684</td>\n",
       "      <td>78.962880</td>\n",
       "    </tr>\n",
       "    <tr>\n",
       "      <th>10</th>\n",
       "      <td>11</td>\n",
       "      <td>80500</td>\n",
       "      <td>Fashion &amp; Retail</td>\n",
       "      <td>Francoise Bettencourt Meyers &amp; family</td>\n",
       "      <td>69.0</td>\n",
       "      <td>France</td>\n",
       "      <td>Paris</td>\n",
       "      <td>L'Oréal</td>\n",
       "      <td>Fashion &amp; Retail</td>\n",
       "      <td>France</td>\n",
       "      <td>...</td>\n",
       "      <td>110.05</td>\n",
       "      <td>1.1</td>\n",
       "      <td>$2,715,518,274,227</td>\n",
       "      <td>65.6</td>\n",
       "      <td>102.5</td>\n",
       "      <td>24.2</td>\n",
       "      <td>60.7</td>\n",
       "      <td>6.705989e+07</td>\n",
       "      <td>46.227638</td>\n",
       "      <td>2.213749</td>\n",
       "    </tr>\n",
       "    <tr>\n",
       "      <th>12</th>\n",
       "      <td>13</td>\n",
       "      <td>77300</td>\n",
       "      <td>Fashion &amp; Retail</td>\n",
       "      <td>Amancio Ortega</td>\n",
       "      <td>87.0</td>\n",
       "      <td>Spain</td>\n",
       "      <td>La Coruna</td>\n",
       "      <td>Zara</td>\n",
       "      <td>Fashion &amp; Retail</td>\n",
       "      <td>Spain</td>\n",
       "      <td>...</td>\n",
       "      <td>110.96</td>\n",
       "      <td>0.7</td>\n",
       "      <td>$1,394,116,310,769</td>\n",
       "      <td>88.9</td>\n",
       "      <td>102.7</td>\n",
       "      <td>14.2</td>\n",
       "      <td>47.0</td>\n",
       "      <td>4.707678e+07</td>\n",
       "      <td>40.463667</td>\n",
       "      <td>-3.749220</td>\n",
       "    </tr>\n",
       "    <tr>\n",
       "      <th>...</th>\n",
       "      <td>...</td>\n",
       "      <td>...</td>\n",
       "      <td>...</td>\n",
       "      <td>...</td>\n",
       "      <td>...</td>\n",
       "      <td>...</td>\n",
       "      <td>...</td>\n",
       "      <td>...</td>\n",
       "      <td>...</td>\n",
       "      <td>...</td>\n",
       "      <td>...</td>\n",
       "      <td>...</td>\n",
       "      <td>...</td>\n",
       "      <td>...</td>\n",
       "      <td>...</td>\n",
       "      <td>...</td>\n",
       "      <td>...</td>\n",
       "      <td>...</td>\n",
       "      <td>...</td>\n",
       "      <td>...</td>\n",
       "      <td>...</td>\n",
       "    </tr>\n",
       "    <tr>\n",
       "      <th>2635</th>\n",
       "      <td>2540</td>\n",
       "      <td>1000</td>\n",
       "      <td>Healthcare</td>\n",
       "      <td>Yu Rong</td>\n",
       "      <td>51.0</td>\n",
       "      <td>China</td>\n",
       "      <td>Shanghai</td>\n",
       "      <td>Health clinics</td>\n",
       "      <td>Healthcare</td>\n",
       "      <td>China</td>\n",
       "      <td>...</td>\n",
       "      <td>125.08</td>\n",
       "      <td>2.9</td>\n",
       "      <td>$19,910,000,000,000</td>\n",
       "      <td>50.6</td>\n",
       "      <td>100.2</td>\n",
       "      <td>9.4</td>\n",
       "      <td>59.2</td>\n",
       "      <td>1.397715e+09</td>\n",
       "      <td>35.861660</td>\n",
       "      <td>104.195397</td>\n",
       "    </tr>\n",
       "    <tr>\n",
       "      <th>2636</th>\n",
       "      <td>2540</td>\n",
       "      <td>1000</td>\n",
       "      <td>Food &amp; Beverage</td>\n",
       "      <td>Richard Yuengling, Jr.</td>\n",
       "      <td>80.0</td>\n",
       "      <td>United States</td>\n",
       "      <td>Pottsville</td>\n",
       "      <td>Beer</td>\n",
       "      <td>Food &amp; Beverage</td>\n",
       "      <td>United States</td>\n",
       "      <td>...</td>\n",
       "      <td>117.24</td>\n",
       "      <td>7.5</td>\n",
       "      <td>$21,427,700,000,000</td>\n",
       "      <td>88.2</td>\n",
       "      <td>101.8</td>\n",
       "      <td>9.6</td>\n",
       "      <td>36.6</td>\n",
       "      <td>3.282395e+08</td>\n",
       "      <td>37.090240</td>\n",
       "      <td>-95.712891</td>\n",
       "    </tr>\n",
       "    <tr>\n",
       "      <th>2637</th>\n",
       "      <td>2540</td>\n",
       "      <td>1000</td>\n",
       "      <td>Manufacturing</td>\n",
       "      <td>Zhang Gongyun</td>\n",
       "      <td>60.0</td>\n",
       "      <td>China</td>\n",
       "      <td>Gaomi</td>\n",
       "      <td>Tyre manufacturing machinery</td>\n",
       "      <td>Manufacturing</td>\n",
       "      <td>China</td>\n",
       "      <td>...</td>\n",
       "      <td>125.08</td>\n",
       "      <td>2.9</td>\n",
       "      <td>$19,910,000,000,000</td>\n",
       "      <td>50.6</td>\n",
       "      <td>100.2</td>\n",
       "      <td>9.4</td>\n",
       "      <td>59.2</td>\n",
       "      <td>1.397715e+09</td>\n",
       "      <td>35.861660</td>\n",
       "      <td>104.195397</td>\n",
       "    </tr>\n",
       "    <tr>\n",
       "      <th>2638</th>\n",
       "      <td>2540</td>\n",
       "      <td>1000</td>\n",
       "      <td>Real Estate</td>\n",
       "      <td>Zhang Guiping &amp; family</td>\n",
       "      <td>71.0</td>\n",
       "      <td>China</td>\n",
       "      <td>Nanjing</td>\n",
       "      <td>Real estate</td>\n",
       "      <td>Real Estate</td>\n",
       "      <td>China</td>\n",
       "      <td>...</td>\n",
       "      <td>125.08</td>\n",
       "      <td>2.9</td>\n",
       "      <td>$19,910,000,000,000</td>\n",
       "      <td>50.6</td>\n",
       "      <td>100.2</td>\n",
       "      <td>9.4</td>\n",
       "      <td>59.2</td>\n",
       "      <td>1.397715e+09</td>\n",
       "      <td>35.861660</td>\n",
       "      <td>104.195397</td>\n",
       "    </tr>\n",
       "    <tr>\n",
       "      <th>2639</th>\n",
       "      <td>2540</td>\n",
       "      <td>1000</td>\n",
       "      <td>Diversified</td>\n",
       "      <td>Inigo Zobel</td>\n",
       "      <td>66.0</td>\n",
       "      <td>Philippines</td>\n",
       "      <td>Makati</td>\n",
       "      <td>Diversified</td>\n",
       "      <td>Diversified</td>\n",
       "      <td>Philippines</td>\n",
       "      <td>...</td>\n",
       "      <td>129.61</td>\n",
       "      <td>2.5</td>\n",
       "      <td>$376,795,508,680</td>\n",
       "      <td>35.5</td>\n",
       "      <td>107.5</td>\n",
       "      <td>14.0</td>\n",
       "      <td>43.1</td>\n",
       "      <td>1.081166e+08</td>\n",
       "      <td>12.879721</td>\n",
       "      <td>121.774017</td>\n",
       "    </tr>\n",
       "  </tbody>\n",
       "</table>\n",
       "<p>2402 rows × 28 columns</p>\n",
       "</div>"
      ],
      "text/plain": [
       "      Rank  FinalWorth          Category  \\\n",
       "0        1      211000  Fashion & Retail   \n",
       "7        8       93000           Telecom   \n",
       "8        9       83400       Diversified   \n",
       "10      11       80500  Fashion & Retail   \n",
       "12      13       77300  Fashion & Retail   \n",
       "...    ...         ...               ...   \n",
       "2635  2540        1000        Healthcare   \n",
       "2636  2540        1000   Food & Beverage   \n",
       "2637  2540        1000     Manufacturing   \n",
       "2638  2540        1000       Real Estate   \n",
       "2639  2540        1000       Diversified   \n",
       "\n",
       "                                 PersonName   Age        Country         City  \\\n",
       "0                  Bernard Arnault & family  74.0         France        Paris   \n",
       "7                 Carlos Slim Helu & family  83.0         Mexico  Mexico City   \n",
       "8                             Mukesh Ambani  65.0          India       Mumbai   \n",
       "10    Francoise Bettencourt Meyers & family  69.0         France        Paris   \n",
       "12                           Amancio Ortega  87.0          Spain    La Coruna   \n",
       "...                                     ...   ...            ...          ...   \n",
       "2635                                Yu Rong  51.0          China     Shanghai   \n",
       "2636                 Richard Yuengling, Jr.  80.0  United States   Pottsville   \n",
       "2637                          Zhang Gongyun  60.0          China        Gaomi   \n",
       "2638                 Zhang Guiping & family  71.0          China      Nanjing   \n",
       "2639                            Inigo Zobel  66.0    Philippines       Makati   \n",
       "\n",
       "                            Source        Industries CountryofCitizenship  \\\n",
       "0                             LVMH  Fashion & Retail               France   \n",
       "7                          Telecom           Telecom               Mexico   \n",
       "8                      Diversified       Diversified                India   \n",
       "10                         L'Oréal  Fashion & Retail               France   \n",
       "12                            Zara  Fashion & Retail                Spain   \n",
       "...                            ...               ...                  ...   \n",
       "2635                Health clinics        Healthcare                China   \n",
       "2636                          Beer   Food & Beverage        United States   \n",
       "2637  Tyre manufacturing machinery     Manufacturing                China   \n",
       "2638                   Real estate       Real Estate                China   \n",
       "2639                   Diversified       Diversified          Philippines   \n",
       "\n",
       "      ... cpi_country  cpi_change_country           gdp_country  \\\n",
       "0     ...      110.05                 1.1   $2,715,518,274,227    \n",
       "7     ...      141.54                 3.6   $1,258,286,717,125    \n",
       "8     ...      180.44                 7.7   $2,611,000,000,000    \n",
       "10    ...      110.05                 1.1   $2,715,518,274,227    \n",
       "12    ...      110.96                 0.7   $1,394,116,310,769    \n",
       "...   ...         ...                 ...                   ...   \n",
       "2635  ...      125.08                 2.9  $19,910,000,000,000    \n",
       "2636  ...      117.24                 7.5  $21,427,700,000,000    \n",
       "2637  ...      125.08                 2.9  $19,910,000,000,000    \n",
       "2638  ...      125.08                 2.9  $19,910,000,000,000    \n",
       "2639  ...      129.61                 2.5     $376,795,508,680    \n",
       "\n",
       "     gross_tertiary_education_enrollment  \\\n",
       "0                                   65.6   \n",
       "7                                   40.2   \n",
       "8                                   28.1   \n",
       "10                                  65.6   \n",
       "12                                  88.9   \n",
       "...                                  ...   \n",
       "2635                                50.6   \n",
       "2636                                88.2   \n",
       "2637                                50.6   \n",
       "2638                                50.6   \n",
       "2639                                35.5   \n",
       "\n",
       "     gross_primary_education_enrollment_country tax_revenue_country_country  \\\n",
       "0                                         102.5                        24.2   \n",
       "7                                         105.8                        13.1   \n",
       "8                                         113.0                        11.2   \n",
       "10                                        102.5                        24.2   \n",
       "12                                        102.7                        14.2   \n",
       "...                                         ...                         ...   \n",
       "2635                                      100.2                         9.4   \n",
       "2636                                      101.8                         9.6   \n",
       "2637                                      100.2                         9.4   \n",
       "2638                                      100.2                         9.4   \n",
       "2639                                      107.5                        14.0   \n",
       "\n",
       "     total_tax_rate_country population_country  latitude_country  \\\n",
       "0                      60.7       6.705989e+07         46.227638   \n",
       "7                      55.1       1.260140e+08         23.634501   \n",
       "8                      49.7       1.366418e+09         20.593684   \n",
       "10                     60.7       6.705989e+07         46.227638   \n",
       "12                     47.0       4.707678e+07         40.463667   \n",
       "...                     ...                ...               ...   \n",
       "2635                   59.2       1.397715e+09         35.861660   \n",
       "2636                   36.6       3.282395e+08         37.090240   \n",
       "2637                   59.2       1.397715e+09         35.861660   \n",
       "2638                   59.2       1.397715e+09         35.861660   \n",
       "2639                   43.1       1.081166e+08         12.879721   \n",
       "\n",
       "      longitude_country  \n",
       "0              2.213749  \n",
       "7           -102.552784  \n",
       "8             78.962880  \n",
       "10             2.213749  \n",
       "12            -3.749220  \n",
       "...                 ...  \n",
       "2635         104.195397  \n",
       "2636         -95.712891  \n",
       "2637         104.195397  \n",
       "2638         104.195397  \n",
       "2639         121.774017  \n",
       "\n",
       "[2402 rows x 28 columns]"
      ]
     },
     "execution_count": 19,
     "metadata": {},
     "output_type": "execute_result"
    }
   ],
   "source": [
    "# Rows with missing data\n",
    "\n",
    "data[data.isna().any(axis=1)]"
   ]
  },
  {
   "cell_type": "code",
   "execution_count": 20,
   "id": "ba119aac",
   "metadata": {
    "execution": {
     "iopub.execute_input": "2024-11-25T17:29:12.762537Z",
     "iopub.status.busy": "2024-11-25T17:29:12.762130Z",
     "iopub.status.idle": "2024-11-25T17:29:12.774333Z",
     "shell.execute_reply": "2024-11-25T17:29:12.772845Z"
    },
    "papermill": {
     "duration": 0.026383,
     "end_time": "2024-11-25T17:29:12.777154",
     "exception": false,
     "start_time": "2024-11-25T17:29:12.750771",
     "status": "completed"
    },
    "tags": []
   },
   "outputs": [
    {
     "data": {
      "text/plain": [
       "Index(['Age', 'Country', 'City', 'Organization', 'Title', 'state',\n",
       "       'residenceStateRegion', 'cpi_country', 'cpi_change_country',\n",
       "       'gdp_country', 'gross_tertiary_education_enrollment',\n",
       "       'gross_primary_education_enrollment_country',\n",
       "       'tax_revenue_country_country', 'total_tax_rate_country',\n",
       "       'population_country', 'latitude_country', 'longitude_country'],\n",
       "      dtype='object')"
      ]
     },
     "execution_count": 20,
     "metadata": {},
     "output_type": "execute_result"
    }
   ],
   "source": [
    "# Columns with missing data\n",
    "\n",
    "data.columns[data.isna().any()]"
   ]
  },
  {
   "cell_type": "code",
   "execution_count": 21,
   "id": "aa6eb798",
   "metadata": {
    "execution": {
     "iopub.execute_input": "2024-11-25T17:29:12.801377Z",
     "iopub.status.busy": "2024-11-25T17:29:12.800689Z",
     "iopub.status.idle": "2024-11-25T17:29:12.823892Z",
     "shell.execute_reply": "2024-11-25T17:29:12.822585Z"
    },
    "papermill": {
     "duration": 0.038002,
     "end_time": "2024-11-25T17:29:12.826645",
     "exception": false,
     "start_time": "2024-11-25T17:29:12.788643",
     "status": "completed"
    },
    "tags": []
   },
   "outputs": [
    {
     "data": {
      "text/plain": [
       "0       False\n",
       "1       False\n",
       "2       False\n",
       "3       False\n",
       "4       False\n",
       "        ...  \n",
       "2635    False\n",
       "2636    False\n",
       "2637    False\n",
       "2638    False\n",
       "2639    False\n",
       "Length: 2640, dtype: bool"
      ]
     },
     "execution_count": 21,
     "metadata": {},
     "output_type": "execute_result"
    }
   ],
   "source": [
    "# Find duplicated data\n",
    "\n",
    "data.duplicated()"
   ]
  },
  {
   "cell_type": "code",
   "execution_count": 22,
   "id": "f8828959",
   "metadata": {
    "execution": {
     "iopub.execute_input": "2024-11-25T17:29:12.852869Z",
     "iopub.status.busy": "2024-11-25T17:29:12.852479Z",
     "iopub.status.idle": "2024-11-25T17:29:12.874285Z",
     "shell.execute_reply": "2024-11-25T17:29:12.872996Z"
    },
    "papermill": {
     "duration": 0.038668,
     "end_time": "2024-11-25T17:29:12.877028",
     "exception": false,
     "start_time": "2024-11-25T17:29:12.838360",
     "status": "completed"
    },
    "tags": []
   },
   "outputs": [
    {
     "data": {
      "text/html": [
       "<div>\n",
       "<style scoped>\n",
       "    .dataframe tbody tr th:only-of-type {\n",
       "        vertical-align: middle;\n",
       "    }\n",
       "\n",
       "    .dataframe tbody tr th {\n",
       "        vertical-align: top;\n",
       "    }\n",
       "\n",
       "    .dataframe thead th {\n",
       "        text-align: right;\n",
       "    }\n",
       "</style>\n",
       "<table border=\"1\" class=\"dataframe\">\n",
       "  <thead>\n",
       "    <tr style=\"text-align: right;\">\n",
       "      <th></th>\n",
       "      <th>Rank</th>\n",
       "      <th>FinalWorth</th>\n",
       "      <th>Category</th>\n",
       "      <th>PersonName</th>\n",
       "      <th>Age</th>\n",
       "      <th>Country</th>\n",
       "      <th>City</th>\n",
       "      <th>Source</th>\n",
       "      <th>Industries</th>\n",
       "      <th>CountryofCitizenship</th>\n",
       "      <th>...</th>\n",
       "      <th>cpi_country</th>\n",
       "      <th>cpi_change_country</th>\n",
       "      <th>gdp_country</th>\n",
       "      <th>gross_tertiary_education_enrollment</th>\n",
       "      <th>gross_primary_education_enrollment_country</th>\n",
       "      <th>tax_revenue_country_country</th>\n",
       "      <th>total_tax_rate_country</th>\n",
       "      <th>population_country</th>\n",
       "      <th>latitude_country</th>\n",
       "      <th>longitude_country</th>\n",
       "    </tr>\n",
       "  </thead>\n",
       "  <tbody>\n",
       "  </tbody>\n",
       "</table>\n",
       "<p>0 rows × 28 columns</p>\n",
       "</div>"
      ],
      "text/plain": [
       "Empty DataFrame\n",
       "Columns: [Rank, FinalWorth, Category, PersonName, Age, Country, City, Source, Industries, CountryofCitizenship, Organization, Selfmade, Status, Gender, Title, date, state, residenceStateRegion, cpi_country, cpi_change_country, gdp_country, gross_tertiary_education_enrollment, gross_primary_education_enrollment_country, tax_revenue_country_country, total_tax_rate_country, population_country, latitude_country, longitude_country]\n",
       "Index: []\n",
       "\n",
       "[0 rows x 28 columns]"
      ]
     },
     "execution_count": 22,
     "metadata": {},
     "output_type": "execute_result"
    }
   ],
   "source": [
    "data.loc[data.duplicated()]"
   ]
  },
  {
   "cell_type": "code",
   "execution_count": 23,
   "id": "76c7aff0",
   "metadata": {
    "execution": {
     "iopub.execute_input": "2024-11-25T17:29:12.902701Z",
     "iopub.status.busy": "2024-11-25T17:29:12.902303Z",
     "iopub.status.idle": "2024-11-25T17:29:12.914685Z",
     "shell.execute_reply": "2024-11-25T17:29:12.913374Z"
    },
    "papermill": {
     "duration": 0.029574,
     "end_time": "2024-11-25T17:29:12.918474",
     "exception": false,
     "start_time": "2024-11-25T17:29:12.888900",
     "status": "completed"
    },
    "tags": []
   },
   "outputs": [
    {
     "data": {
      "text/plain": [
       "0       False\n",
       "1       False\n",
       "2       False\n",
       "3       False\n",
       "4       False\n",
       "        ...  \n",
       "2635    False\n",
       "2636    False\n",
       "2637    False\n",
       "2638    False\n",
       "2639    False\n",
       "Length: 2640, dtype: bool"
      ]
     },
     "execution_count": 23,
     "metadata": {},
     "output_type": "execute_result"
    }
   ],
   "source": [
    "# Running duplicate on a subset of columns\n",
    "\n",
    "data.duplicated(subset=['PersonName'])"
   ]
  },
  {
   "cell_type": "markdown",
   "id": "eb8d058c",
   "metadata": {
    "papermill": {
     "duration": 0.011657,
     "end_time": "2024-11-25T17:29:12.943079",
     "exception": false,
     "start_time": "2024-11-25T17:29:12.931422",
     "status": "completed"
    },
    "tags": []
   },
   "source": [
    "# Data Visualization"
   ]
  },
  {
   "cell_type": "code",
   "execution_count": 24,
   "id": "ee9266da",
   "metadata": {
    "execution": {
     "iopub.execute_input": "2024-11-25T17:29:12.968811Z",
     "iopub.status.busy": "2024-11-25T17:29:12.968224Z",
     "iopub.status.idle": "2024-11-25T17:29:12.980420Z",
     "shell.execute_reply": "2024-11-25T17:29:12.979210Z"
    },
    "papermill": {
     "duration": 0.028702,
     "end_time": "2024-11-25T17:29:12.982895",
     "exception": false,
     "start_time": "2024-11-25T17:29:12.954193",
     "status": "completed"
    },
    "tags": []
   },
   "outputs": [
    {
     "data": {
      "text/plain": [
       "Category\n",
       "Finance & Investments         372\n",
       "Manufacturing                 324\n",
       "Technology                    314\n",
       "Fashion & Retail              266\n",
       "Food & Beverage               212\n",
       "Healthcare                    201\n",
       "Real Estate                   193\n",
       "Diversified                   187\n",
       "Energy                        100\n",
       "Media & Entertainment          91\n",
       "Metals & Mining                74\n",
       "Automotive                     73\n",
       "Service                        53\n",
       "Construction & Engineering     45\n",
       "Logistics                      40\n",
       "Sports                         39\n",
       "Telecom                        31\n",
       "Gambling & Casinos             25\n",
       "Name: count, dtype: int64"
      ]
     },
     "execution_count": 24,
     "metadata": {},
     "output_type": "execute_result"
    }
   ],
   "source": [
    "data['Category'].value_counts()"
   ]
  },
  {
   "cell_type": "code",
   "execution_count": 25,
   "id": "4597ac24",
   "metadata": {
    "execution": {
     "iopub.execute_input": "2024-11-25T17:29:13.010286Z",
     "iopub.status.busy": "2024-11-25T17:29:13.009361Z",
     "iopub.status.idle": "2024-11-25T17:29:13.499703Z",
     "shell.execute_reply": "2024-11-25T17:29:13.498162Z"
    },
    "papermill": {
     "duration": 0.506278,
     "end_time": "2024-11-25T17:29:13.502080",
     "exception": false,
     "start_time": "2024-11-25T17:29:12.995802",
     "status": "completed"
    },
    "tags": []
   },
   "outputs": [
    {
     "data": {
      "text/plain": [
       "Text(0, 0.5, 'Count')"
      ]
     },
     "execution_count": 25,
     "metadata": {},
     "output_type": "execute_result"
    },
    {
     "data": {
      "image/png": "[encoded data removed]",
      "text/plain": [
       "<Figure size 640x480 with 1 Axes>"
      ]
     },
     "metadata": {},
     "output_type": "display_data"
    }
   ],
   "source": [
    "ax = data['Category'].value_counts() \\\n",
    ".head(20) \\\n",
    ".plot(kind='bar', title='Top 20 Field Category that has the most billionaires')\n",
    "ax.set_xlabel('Category')\n",
    "ax.set_ylabel('Count')"
   ]
  },
  {
   "cell_type": "code",
   "execution_count": 26,
   "id": "5425cb66",
   "metadata": {
    "execution": {
     "iopub.execute_input": "2024-11-25T17:29:13.528584Z",
     "iopub.status.busy": "2024-11-25T17:29:13.528217Z",
     "iopub.status.idle": "2024-11-25T17:29:15.745829Z",
     "shell.execute_reply": "2024-11-25T17:29:15.744105Z"
    },
    "papermill": {
     "duration": 2.234625,
     "end_time": "2024-11-25T17:29:15.748820",
     "exception": false,
     "start_time": "2024-11-25T17:29:13.514195",
     "status": "completed"
    },
    "tags": []
   },
   "outputs": [],
   "source": [
    "import seaborn as sns\n",
    "import sklearn\n",
    "import scipy"
   ]
  },
  {
   "cell_type": "code",
   "execution_count": 27,
   "id": "853cca49",
   "metadata": {
    "execution": {
     "iopub.execute_input": "2024-11-25T17:29:15.793484Z",
     "iopub.status.busy": "2024-11-25T17:29:15.792675Z",
     "iopub.status.idle": "2024-11-25T17:29:16.390803Z",
     "shell.execute_reply": "2024-11-25T17:29:16.389126Z"
    },
    "papermill": {
     "duration": 0.623844,
     "end_time": "2024-11-25T17:29:16.393373",
     "exception": false,
     "start_time": "2024-11-25T17:29:15.769529",
     "status": "completed"
    },
    "tags": []
   },
   "outputs": [
    {
     "data": {
      "image/png": "[encoded data removed]",
      "text/plain": [
       "<Figure size 640x480 with 1 Axes>"
      ]
     },
     "metadata": {},
     "output_type": "display_data"
    }
   ],
   "source": [
    "sns.boxplot(data=data, x='Category', y='Age')\n",
    "plt.title('Age distribution of Billionaires by Business Category')\n",
    "plt.xticks(rotation=45) # Rotate labels for readability\n",
    "plt.show()"
   ]
  },
  {
   "cell_type": "code",
   "execution_count": 28,
   "id": "8b251e99",
   "metadata": {
    "execution": {
     "iopub.execute_input": "2024-11-25T17:29:16.423235Z",
     "iopub.status.busy": "2024-11-25T17:29:16.422810Z",
     "iopub.status.idle": "2024-11-25T17:29:17.562105Z",
     "shell.execute_reply": "2024-11-25T17:29:17.560654Z"
    },
    "papermill": {
     "duration": 1.158313,
     "end_time": "2024-11-25T17:29:17.565433",
     "exception": false,
     "start_time": "2024-11-25T17:29:16.407120",
     "status": "completed"
    },
    "tags": []
   },
   "outputs": [
    {
     "data": {
      "image/png": "[encoded data removed]",
      "text/plain": [
       "<Figure size 640x480 with 1 Axes>"
      ]
     },
     "metadata": {},
     "output_type": "display_data"
    }
   ],
   "source": [
    "sns.barplot(data=data, x='Category', y='Age')\n",
    "plt.title('Age distribution of Billionaires by Business Category')\n",
    "plt.xticks(rotation=45) # Rotate labels for readability\n",
    "plt.show()"
   ]
  },
  {
   "cell_type": "code",
   "execution_count": 29,
   "id": "3bc95262",
   "metadata": {
    "execution": {
     "iopub.execute_input": "2024-11-25T17:29:17.596415Z",
     "iopub.status.busy": "2024-11-25T17:29:17.596052Z",
     "iopub.status.idle": "2024-11-25T17:29:18.391017Z",
     "shell.execute_reply": "2024-11-25T17:29:18.389620Z"
    },
    "papermill": {
     "duration": 0.813459,
     "end_time": "2024-11-25T17:29:18.393515",
     "exception": false,
     "start_time": "2024-11-25T17:29:17.580056",
     "status": "completed"
    },
    "tags": []
   },
   "outputs": [
    {
     "data": {
      "image/png": "[encoded data removed]",
      "text/plain": [
       "<Figure size 640x480 with 1 Axes>"
      ]
     },
     "metadata": {},
     "output_type": "display_data"
    }
   ],
   "source": [
    "# Visualization of Top 20 Business Category \n",
    "# Step 1: Get the top 20 business categories\n",
    "\n",
    "top_categories = data['Category'].value_counts().head(10).index\n",
    "\n",
    "# Step 2: Filter the DataFrame to include only these top categories\n",
    "\n",
    "filtered_data = data[data['Category'].isin(top_categories)]\n",
    "\n",
    "# Step 3: Create the plot\n",
    "\n",
    "sns.barplot(data=filtered_data, x='Category', y='Age')\n",
    "plt.title('Age Distribution of Billionaires by Top 10 Categories')\n",
    "plt.xticks(rotation=90) # Rotate labels for Readability\n",
    "plt.show()"
   ]
  },
  {
   "cell_type": "code",
   "execution_count": 30,
   "id": "7236e02f",
   "metadata": {
    "execution": {
     "iopub.execute_input": "2024-11-25T17:29:18.428854Z",
     "iopub.status.busy": "2024-11-25T17:29:18.428433Z",
     "iopub.status.idle": "2024-11-25T17:29:18.437845Z",
     "shell.execute_reply": "2024-11-25T17:29:18.436106Z"
    },
    "papermill": {
     "duration": 0.030076,
     "end_time": "2024-11-25T17:29:18.440608",
     "exception": false,
     "start_time": "2024-11-25T17:29:18.410532",
     "status": "completed"
    },
    "tags": []
   },
   "outputs": [
    {
     "data": {
      "text/plain": [
       "Index(['Rank', 'FinalWorth', 'Category', 'PersonName', 'Age', 'Country',\n",
       "       'City', 'Source', 'Industries', 'CountryofCitizenship', 'Organization',\n",
       "       'Selfmade', 'Status', 'Gender', 'Title', 'date', 'state',\n",
       "       'residenceStateRegion', 'cpi_country', 'cpi_change_country',\n",
       "       'gdp_country', 'gross_tertiary_education_enrollment',\n",
       "       'gross_primary_education_enrollment_country',\n",
       "       'tax_revenue_country_country', 'total_tax_rate_country',\n",
       "       'population_country', 'latitude_country', 'longitude_country'],\n",
       "      dtype='object')"
      ]
     },
     "execution_count": 30,
     "metadata": {},
     "output_type": "execute_result"
    }
   ],
   "source": [
    "data.columns"
   ]
  },
  {
   "cell_type": "code",
   "execution_count": 31,
   "id": "868568c2",
   "metadata": {
    "execution": {
     "iopub.execute_input": "2024-11-25T17:29:18.474196Z",
     "iopub.status.busy": "2024-11-25T17:29:18.473774Z",
     "iopub.status.idle": "2024-11-25T17:29:18.902085Z",
     "shell.execute_reply": "2024-11-25T17:29:18.900842Z"
    },
    "papermill": {
     "duration": 0.449779,
     "end_time": "2024-11-25T17:29:18.905195",
     "exception": false,
     "start_time": "2024-11-25T17:29:18.455416",
     "status": "completed"
    },
    "tags": []
   },
   "outputs": [
    {
     "data": {
      "image/png": "[encoded data removed]",
      "text/plain": [
       "<Figure size 640x480 with 1 Axes>"
      ]
     },
     "metadata": {},
     "output_type": "display_data"
    }
   ],
   "source": [
    "import seaborn as sns\n",
    "sns.countplot(data=data, y='Country', order=data['Country'].value_counts().index[:20])\n",
    "plt.title('Top 20 Countries By Number of Billionaires')\n",
    "plt.xlabel('Number of Billionaires')\n",
    "plt.ylabel('Country')\n",
    "plt.show()"
   ]
  },
  {
   "cell_type": "code",
   "execution_count": 32,
   "id": "b125fef5",
   "metadata": {
    "execution": {
     "iopub.execute_input": "2024-11-25T17:29:18.938147Z",
     "iopub.status.busy": "2024-11-25T17:29:18.937745Z",
     "iopub.status.idle": "2024-11-25T17:29:22.060577Z",
     "shell.execute_reply": "2024-11-25T17:29:22.058877Z"
    },
    "papermill": {
     "duration": 3.142436,
     "end_time": "2024-11-25T17:29:22.063175",
     "exception": false,
     "start_time": "2024-11-25T17:29:18.920739",
     "status": "completed"
    },
    "tags": []
   },
   "outputs": [
    {
     "data": {
      "text/html": [
       "        <script type=\"text/javascript\">\n",
       "        window.PlotlyConfig = {MathJaxConfig: 'local'};\n",
       "        if (window.MathJax && window.MathJax.Hub && window.MathJax.Hub.Config) {window.MathJax.Hub.Config({SVG: {font: \"STIX-Web\"}});}\n",
       "        if (typeof require !== 'undefined') {\n",
       "        require.undef(\"plotly\");\n",
       "        requirejs.config({\n",
       "            paths: {\n",
       "                'plotly': ['https://cdn.plot.ly/plotly-2.32.0.min']\n",
       "            }\n",
       "        });\n",
       "        require(['plotly'], function(Plotly) {\n",
       "            window._Plotly = Plotly;\n",
       "        });\n",
       "        }\n",
       "        </script>\n",
       "        "
      ]
     },
     "metadata": {},
     "output_type": "display_data"
    },
    {
     "data": {
      "text/html": [
       "<div>                            <div id=\"ec729c78-60e3-445e-b664-6c3a623fd81f\" class=\"plotly-graph-div\" style=\"height:525px; width:100%;\"></div>            <script type=\"text/javascript\">                require([\"plotly\"], function(Plotly) {                    window.PLOTLYENV=window.PLOTLYENV || {};                                    if (document.getElementById(\"ec729c78-60e3-445e-b664-6c3a623fd81f\")) {                    Plotly.newPlot(                        \"ec729c78-60e3-445e-b664-6c3a623fd81f\",                        [{\"coloraxis\":\"coloraxis\",\"geo\":\"geo\",\"hovertemplate\":\"Country=%{location}\\u003cbr\\u003eCount=%{z}\\u003cextra\\u003e\\u003c\\u002fextra\\u003e\",\"locationmode\":\"country names\",\"locations\":[\"United States\",\"China\",\"India\",\"Germany\",\"United Kingdom\",\"Russia\",\"Switzerland\",\"Hong Kong\",\"Italy\",\"Singapore\",\"Brazil\",\"Australia\",\"Taiwan\",\"Canada\",\"Japan\",\"France\",\"South Korea\",\"Thailand\",\"Sweden\",\"Israel\",\"Turkey\",\"Spain\",\"Indonesia\",\"United Arab Emirates\",\"Monaco\",\"Philippines\",\"Mexico\",\"Austria\",\"Malaysia\",\"Netherlands\",\"Norway\",\"Denmark\",\"Kazakhstan\",\"Finland\",\"Czech Republic\",\"Vietnam\",\"Ukraine\",\"Chile\",\"Poland\",\"Cyprus\",\"South Africa\",\"Egypt\",\"Ireland\",\"Argentina\",\"Hungary\",\"Romania\",\"Greece\",\"Nigeria\",\"Belgium\",\"Cayman Islands\",\"Qatar\",\"Lebanon\",\"Slovakia\",\"Bermuda\",\"Morocco\",\"Peru\",\"Bahamas\",\"New Zealand\",\"Turks and Caicos Islands\",\"Nepal\",\"Uruguay\",\"Tanzania\",\"Andorra\",\"Bahrain\",\"Colombia\",\"Liechtenstein\",\"Guernsey\",\"Oman\",\"Cambodia\",\"British Virgin Islands\",\"Luxembourg\",\"Latvia\",\"Algeria\",\"Portugal\",\"Georgia\",\"Eswatini (Swaziland)\",\"Uzbekistan\",\"Armenia\"],\"name\":\"\",\"z\":[754,523,157,102,82,79,78,68,55,46,44,43,43,42,38,35,29,28,26,26,25,25,25,17,17,14,13,11,11,10,9,7,7,7,7,6,6,6,5,5,5,4,4,4,3,3,3,3,3,3,2,2,2,2,2,2,2,2,1,1,1,1,1,1,1,1,1,1,1,1,1,1,1,1,1,1,1,1],\"type\":\"choropleth\"}],                        {\"template\":{\"data\":{\"histogram2dcontour\":[{\"type\":\"histogram2dcontour\",\"colorbar\":{\"outlinewidth\":0,\"ticks\":\"\"},\"colorscale\":[[0.0,\"#0d0887\"],[0.1111111111111111,\"#46039f\"],[0.2222222222222222,\"#7201a8\"],[0.3333333333333333,\"#9c179e\"],[0.4444444444444444,\"#bd3786\"],[0.5555555555555556,\"#d8576b\"],[0.6666666666666666,\"#ed7953\"],[0.7777777777777778,\"#fb9f3a\"],[0.8888888888888888,\"#fdca26\"],[1.0,\"#f0f921\"]]}],\"choropleth\":[{\"type\":\"choropleth\",\"colorbar\":{\"outlinewidth\":0,\"ticks\":\"\"}}],\"histogram2d\":[{\"type\":\"histogram2d\",\"colorbar\":{\"outlinewidth\":0,\"ticks\":\"\"},\"colorscale\":[[0.0,\"#0d0887\"],[0.1111111111111111,\"#46039f\"],[0.2222222222222222,\"#7201a8\"],[0.3333333333333333,\"#9c179e\"],[0.4444444444444444,\"#bd3786\"],[0.5555555555555556,\"#d8576b\"],[0.6666666666666666,\"#ed7953\"],[0.7777777777777778,\"#fb9f3a\"],[0.8888888888888888,\"#fdca26\"],[1.0,\"#f0f921\"]]}],\"heatmap\":[{\"type\":\"heatmap\",\"colorbar\":{\"outlinewidth\":0,\"ticks\":\"\"},\"colorscale\":[[0.0,\"#0d0887\"],[0.1111111111111111,\"#46039f\"],[0.2222222222222222,\"#7201a8\"],[0.3333333333333333,\"#9c179e\"],[0.4444444444444444,\"#bd3786\"],[0.5555555555555556,\"#d8576b\"],[0.6666666666666666,\"#ed7953\"],[0.7777777777777778,\"#fb9f3a\"],[0.8888888888888888,\"#fdca26\"],[1.0,\"#f0f921\"]]}],\"heatmapgl\":[{\"type\":\"heatmapgl\",\"colorbar\":{\"outlinewidth\":0,\"ticks\":\"\"},\"colorscale\":[[0.0,\"#0d0887\"],[0.1111111111111111,\"#46039f\"],[0.2222222222222222,\"#7201a8\"],[0.3333333333333333,\"#9c179e\"],[0.4444444444444444,\"#bd3786\"],[0.5555555555555556,\"#d8576b\"],[0.6666666666666666,\"#ed7953\"],[0.7777777777777778,\"#fb9f3a\"],[0.8888888888888888,\"#fdca26\"],[1.0,\"#f0f921\"]]}],\"contourcarpet\":[{\"type\":\"contourcarpet\",\"colorbar\":{\"outlinewidth\":0,\"ticks\":\"\"}}],\"contour\":[{\"type\":\"contour\",\"colorbar\":{\"outlinewidth\":0,\"ticks\":\"\"},\"colorscale\":[[0.0,\"#0d0887\"],[0.1111111111111111,\"#46039f\"],[0.2222222222222222,\"#7201a8\"],[0.3333333333333333,\"#9c179e\"],[0.4444444444444444,\"#bd3786\"],[0.5555555555555556,\"#d8576b\"],[0.6666666666666666,\"#ed7953\"],[0.7777777777777778,\"#fb9f3a\"],[0.8888888888888888,\"#fdca26\"],[1.0,\"#f0f921\"]]}],\"surface\":[{\"type\":\"surface\",\"colorbar\":{\"outlinewidth\":0,\"ticks\":\"\"},\"colorscale\":[[0.0,\"#0d0887\"],[0.1111111111111111,\"#46039f\"],[0.2222222222222222,\"#7201a8\"],[0.3333333333333333,\"#9c179e\"],[0.4444444444444444,\"#bd3786\"],[0.5555555555555556,\"#d8576b\"],[0.6666666666666666,\"#ed7953\"],[0.7777777777777778,\"#fb9f3a\"],[0.8888888888888888,\"#fdca26\"],[1.0,\"#f0f921\"]]}],\"mesh3d\":[{\"type\":\"mesh3d\",\"colorbar\":{\"outlinewidth\":0,\"ticks\":\"\"}}],\"scatter\":[{\"fillpattern\":{\"fillmode\":\"overlay\",\"size\":10,\"solidity\":0.2},\"type\":\"scatter\"}],\"parcoords\":[{\"type\":\"parcoords\",\"line\":{\"colorbar\":{\"outlinewidth\":0,\"ticks\":\"\"}}}],\"scatterpolargl\":[{\"type\":\"scatterpolargl\",\"marker\":{\"colorbar\":{\"outlinewidth\":0,\"ticks\":\"\"}}}],\"bar\":[{\"error_x\":{\"color\":\"#2a3f5f\"},\"error_y\":{\"color\":\"#2a3f5f\"},\"marker\":{\"line\":{\"color\":\"#E5ECF6\",\"width\":0.5},\"pattern\":{\"fillmode\":\"overlay\",\"size\":10,\"solidity\":0.2}},\"type\":\"bar\"}],\"scattergeo\":[{\"type\":\"scattergeo\",\"marker\":{\"colorbar\":{\"outlinewidth\":0,\"ticks\":\"\"}}}],\"scatterpolar\":[{\"type\":\"scatterpolar\",\"marker\":{\"colorbar\":{\"outlinewidth\":0,\"ticks\":\"\"}}}],\"histogram\":[{\"marker\":{\"pattern\":{\"fillmode\":\"overlay\",\"size\":10,\"solidity\":0.2}},\"type\":\"histogram\"}],\"scattergl\":[{\"type\":\"scattergl\",\"marker\":{\"colorbar\":{\"outlinewidth\":0,\"ticks\":\"\"}}}],\"scatter3d\":[{\"type\":\"scatter3d\",\"line\":{\"colorbar\":{\"outlinewidth\":0,\"ticks\":\"\"}},\"marker\":{\"colorbar\":{\"outlinewidth\":0,\"ticks\":\"\"}}}],\"scattermapbox\":[{\"type\":\"scattermapbox\",\"marker\":{\"colorbar\":{\"outlinewidth\":0,\"ticks\":\"\"}}}],\"scatterternary\":[{\"type\":\"scatterternary\",\"marker\":{\"colorbar\":{\"outlinewidth\":0,\"ticks\":\"\"}}}],\"scattercarpet\":[{\"type\":\"scattercarpet\",\"marker\":{\"colorbar\":{\"outlinewidth\":0,\"ticks\":\"\"}}}],\"carpet\":[{\"aaxis\":{\"endlinecolor\":\"#2a3f5f\",\"gridcolor\":\"white\",\"linecolor\":\"white\",\"minorgridcolor\":\"white\",\"startlinecolor\":\"#2a3f5f\"},\"baxis\":{\"endlinecolor\":\"#2a3f5f\",\"gridcolor\":\"white\",\"linecolor\":\"white\",\"minorgridcolor\":\"white\",\"startlinecolor\":\"#2a3f5f\"},\"type\":\"carpet\"}],\"table\":[{\"cells\":{\"fill\":{\"color\":\"#EBF0F8\"},\"line\":{\"color\":\"white\"}},\"header\":{\"fill\":{\"color\":\"#C8D4E3\"},\"line\":{\"color\":\"white\"}},\"type\":\"table\"}],\"barpolar\":[{\"marker\":{\"line\":{\"color\":\"#E5ECF6\",\"width\":0.5},\"pattern\":{\"fillmode\":\"overlay\",\"size\":10,\"solidity\":0.2}},\"type\":\"barpolar\"}],\"pie\":[{\"automargin\":true,\"type\":\"pie\"}]},\"layout\":{\"autotypenumbers\":\"strict\",\"colorway\":[\"#636efa\",\"#EF553B\",\"#00cc96\",\"#ab63fa\",\"#FFA15A\",\"#19d3f3\",\"#FF6692\",\"#B6E880\",\"#FF97FF\",\"#FECB52\"],\"font\":{\"color\":\"#2a3f5f\"},\"hovermode\":\"closest\",\"hoverlabel\":{\"align\":\"left\"},\"paper_bgcolor\":\"white\",\"plot_bgcolor\":\"#E5ECF6\",\"polar\":{\"bgcolor\":\"#E5ECF6\",\"angularaxis\":{\"gridcolor\":\"white\",\"linecolor\":\"white\",\"ticks\":\"\"},\"radialaxis\":{\"gridcolor\":\"white\",\"linecolor\":\"white\",\"ticks\":\"\"}},\"ternary\":{\"bgcolor\":\"#E5ECF6\",\"aaxis\":{\"gridcolor\":\"white\",\"linecolor\":\"white\",\"ticks\":\"\"},\"baxis\":{\"gridcolor\":\"white\",\"linecolor\":\"white\",\"ticks\":\"\"},\"caxis\":{\"gridcolor\":\"white\",\"linecolor\":\"white\",\"ticks\":\"\"}},\"coloraxis\":{\"colorbar\":{\"outlinewidth\":0,\"ticks\":\"\"}},\"colorscale\":{\"sequential\":[[0.0,\"#0d0887\"],[0.1111111111111111,\"#46039f\"],[0.2222222222222222,\"#7201a8\"],[0.3333333333333333,\"#9c179e\"],[0.4444444444444444,\"#bd3786\"],[0.5555555555555556,\"#d8576b\"],[0.6666666666666666,\"#ed7953\"],[0.7777777777777778,\"#fb9f3a\"],[0.8888888888888888,\"#fdca26\"],[1.0,\"#f0f921\"]],\"sequentialminus\":[[0.0,\"#0d0887\"],[0.1111111111111111,\"#46039f\"],[0.2222222222222222,\"#7201a8\"],[0.3333333333333333,\"#9c179e\"],[0.4444444444444444,\"#bd3786\"],[0.5555555555555556,\"#d8576b\"],[0.6666666666666666,\"#ed7953\"],[0.7777777777777778,\"#fb9f3a\"],[0.8888888888888888,\"#fdca26\"],[1.0,\"#f0f921\"]],\"diverging\":[[0,\"#8e0152\"],[0.1,\"#c51b7d\"],[0.2,\"#de77ae\"],[0.3,\"#f1b6da\"],[0.4,\"#fde0ef\"],[0.5,\"#f7f7f7\"],[0.6,\"#e6f5d0\"],[0.7,\"#b8e186\"],[0.8,\"#7fbc41\"],[0.9,\"#4d9221\"],[1,\"#276419\"]]},\"xaxis\":{\"gridcolor\":\"white\",\"linecolor\":\"white\",\"ticks\":\"\",\"title\":{\"standoff\":15},\"zerolinecolor\":\"white\",\"automargin\":true,\"zerolinewidth\":2},\"yaxis\":{\"gridcolor\":\"white\",\"linecolor\":\"white\",\"ticks\":\"\",\"title\":{\"standoff\":15},\"zerolinecolor\":\"white\",\"automargin\":true,\"zerolinewidth\":2},\"scene\":{\"xaxis\":{\"backgroundcolor\":\"#E5ECF6\",\"gridcolor\":\"white\",\"linecolor\":\"white\",\"showbackground\":true,\"ticks\":\"\",\"zerolinecolor\":\"white\",\"gridwidth\":2},\"yaxis\":{\"backgroundcolor\":\"#E5ECF6\",\"gridcolor\":\"white\",\"linecolor\":\"white\",\"showbackground\":true,\"ticks\":\"\",\"zerolinecolor\":\"white\",\"gridwidth\":2},\"zaxis\":{\"backgroundcolor\":\"#E5ECF6\",\"gridcolor\":\"white\",\"linecolor\":\"white\",\"showbackground\":true,\"ticks\":\"\",\"zerolinecolor\":\"white\",\"gridwidth\":2}},\"shapedefaults\":{\"line\":{\"color\":\"#2a3f5f\"}},\"annotationdefaults\":{\"arrowcolor\":\"#2a3f5f\",\"arrowhead\":0,\"arrowwidth\":1},\"geo\":{\"bgcolor\":\"white\",\"landcolor\":\"#E5ECF6\",\"subunitcolor\":\"white\",\"showland\":true,\"showlakes\":true,\"lakecolor\":\"white\"},\"title\":{\"x\":0.05},\"mapbox\":{\"style\":\"light\"}}},\"geo\":{\"domain\":{\"x\":[0.0,1.0],\"y\":[0.0,1.0]},\"center\":{},\"scope\":\"world\"},\"coloraxis\":{\"colorbar\":{\"title\":{\"text\":\"Count\"}},\"colorscale\":[[0.0,\"rgb(247,251,255)\"],[0.125,\"rgb(222,235,247)\"],[0.25,\"rgb(198,219,239)\"],[0.375,\"rgb(158,202,225)\"],[0.5,\"rgb(107,174,214)\"],[0.625,\"rgb(66,146,198)\"],[0.75,\"rgb(33,113,181)\"],[0.875,\"rgb(8,81,156)\"],[1.0,\"rgb(8,48,107)\"]]},\"legend\":{\"tracegroupgap\":0},\"title\":{\"text\":\"Number of Billionaires By Country\"}},                        {\"responsive\": true}                    ).then(function(){\n",
       "                            \n",
       "var gd = document.getElementById('ec729c78-60e3-445e-b664-6c3a623fd81f');\n",
       "var x = new MutationObserver(function (mutations, observer) {{\n",
       "        var display = window.getComputedStyle(gd).display;\n",
       "        if (!display || display === 'none') {{\n",
       "            console.log([gd, 'removed!']);\n",
       "            Plotly.purge(gd);\n",
       "            observer.disconnect();\n",
       "        }}\n",
       "}});\n",
       "\n",
       "// Listen for the removal of the full notebook cells\n",
       "var notebookContainer = gd.closest('#notebook-container');\n",
       "if (notebookContainer) {{\n",
       "    x.observe(notebookContainer, {childList: true});\n",
       "}}\n",
       "\n",
       "// Listen for the clearing of the current output cell\n",
       "var outputEl = gd.closest('.output');\n",
       "if (outputEl) {{\n",
       "    x.observe(outputEl, {childList: true});\n",
       "}}\n",
       "\n",
       "                        })                };                });            </script>        </div>"
      ]
     },
     "metadata": {},
     "output_type": "display_data"
    }
   ],
   "source": [
    "import plotly.express as px\n",
    "\n",
    "# Aggregate the number of Billionaires by Country\n",
    "country_counts = data['Country'].value_counts().reset_index()\n",
    "country_counts.columns = ['Country', 'Count']\n",
    "\n",
    "# Create a world map choropleth\n",
    "fig = px.choropleth(\n",
    "    country_counts,\n",
    "    locations='Country',\n",
    "    locationmode='country names',\n",
    "    color='Count',\n",
    "    title='Number of Billionaires By Country',\n",
    "    color_continuous_scale=px.colors.sequential.Blues,\n",
    "    scope='world'\n",
    ")\n",
    "fig.show()"
   ]
  },
  {
   "cell_type": "code",
   "execution_count": 33,
   "id": "90f41bd9",
   "metadata": {
    "execution": {
     "iopub.execute_input": "2024-11-25T17:29:22.101824Z",
     "iopub.status.busy": "2024-11-25T17:29:22.101342Z",
     "iopub.status.idle": "2024-11-25T17:29:22.108428Z",
     "shell.execute_reply": "2024-11-25T17:29:22.106848Z"
    },
    "papermill": {
     "duration": 0.029647,
     "end_time": "2024-11-25T17:29:22.110931",
     "exception": false,
     "start_time": "2024-11-25T17:29:22.081284",
     "status": "completed"
    },
    "tags": []
   },
   "outputs": [],
   "source": [
    "# Troubleshooting to see why it's blank\n",
    "import plotly.io as pio\n",
    "pio.renderers.default = 'notebook'"
   ]
  },
  {
   "cell_type": "code",
   "execution_count": 34,
   "id": "03f53ec2",
   "metadata": {
    "execution": {
     "iopub.execute_input": "2024-11-25T17:29:22.148190Z",
     "iopub.status.busy": "2024-11-25T17:29:22.147659Z",
     "iopub.status.idle": "2024-11-25T17:29:22.450477Z",
     "shell.execute_reply": "2024-11-25T17:29:22.448573Z"
    },
    "papermill": {
     "duration": 0.324713,
     "end_time": "2024-11-25T17:29:22.453014",
     "exception": false,
     "start_time": "2024-11-25T17:29:22.128301",
     "status": "completed"
    },
    "tags": []
   },
   "outputs": [
    {
     "data": {
      "image/png": "[encoded data removed]",
      "text/plain": [
       "<Figure size 800x600 with 1 Axes>"
      ]
     },
     "metadata": {},
     "output_type": "display_data"
    }
   ],
   "source": [
    "# Create a crosstab for stacked data\n",
    "\n",
    "crosstab = pd.crosstab(data['Gender'], data['Selfmade'])\n",
    "\n",
    "# Plot the stacked bar chart\n",
    "crosstab.plot(\n",
    "    kind='bar',\n",
    "    stacked=True,\n",
    "    figsize=(8,6),\n",
    "    colormap='viridis',\n",
    "    title='Billionaire by Gender and Selfmade Status'\n",
    ")\n",
    "plt.xlabel('Gender')\n",
    "plt.ylabel('Number of Billionaires')\n",
    "plt.show()"
   ]
  },
  {
   "cell_type": "code",
   "execution_count": null,
   "id": "304bb2d9",
   "metadata": {
    "papermill": {
     "duration": 0.01599,
     "end_time": "2024-11-25T17:29:22.486056",
     "exception": false,
     "start_time": "2024-11-25T17:29:22.470066",
     "status": "completed"
    },
    "tags": []
   },
   "outputs": [],
   "source": []
  }
 ],
 "metadata": {
  "kaggle": {
   "accelerator": "none",
   "dataSources": [
    {
     "datasetId": 6140992,
     "sourceId": 9980030,
     "sourceType": "datasetVersion"
    }
   ],
   "dockerImageVersionId": 30786,
   "isGpuEnabled": false,
   "isInternetEnabled": true,
   "language": "python",
   "sourceType": "notebook"
  },
  "kernelspec": {
   "display_name": "Python 3",
   "language": "python",
   "name": "python3"
  },
  "language_info": {
   "codemirror_mode": {
    "name": "ipython",
    "version": 3
   },
   "file_extension": ".py",
   "mimetype": "text/x-python",
   "name": "python",
   "nbconvert_exporter": "python",
   "pygments_lexer": "ipython3",
   "version": "3.10.14"
  },
  "papermill": {
   "default_parameters": {},
   "duration": 15.952641,
   "end_time": "2024-11-25T17:29:23.430463",
   "environment_variables": {},
   "exception": null,
   "input_path": "__notebook__.ipynb",
   "output_path": "__notebook__.ipynb",
   "parameters": {},
   "start_time": "2024-11-25T17:29:07.477822",
   "version": "2.6.0"
  }
 },
 "nbformat": 4,
 "nbformat_minor": 5
}
